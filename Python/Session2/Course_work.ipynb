{
 "cells": [
  {
   "cell_type": "markdown",
   "id": "0aa75fc8-8303-4544-9711-6e31d70e10dc",
   "metadata": {},
   "source": [
    "## Lambda Function:\n"
   ]
  },
  {
   "cell_type": "markdown",
   "id": "7b043cca-36e0-415c-8b7e-0ffeaa70b8b5",
   "metadata": {},
   "source": [
    "**Definition**:Lambda Functions are small anonyous functions defined using the lambda key word they ae often used for short,simple operations.\n",
    "**Characterstics**:\n",
    "1. lambda functions can have any number of arguments but only 1 expression.\n",
    "2. Typically used for short tasks where defining a full function might be unnecessary.\n",
    "3. Commonly used in places where functions are expected as arguments(e.g: higher order functions like map(), filter() ...etc"
   ]
  },
  {
   "cell_type": "code",
   "execution_count": 3,
   "id": "48675896-c19b-4e42-8d6c-7a2f11c4c811",
   "metadata": {},
   "outputs": [
    {
     "name": "stdout",
     "output_type": "stream",
     "text": [
      "7\n"
     ]
    }
   ],
   "source": [
    "#lambda function syntax\n",
    "#func_name=lambda arguments:expression\n",
    "add=lambda x,y:x+y #it returns the result of the expression\n",
    "print(add(3,4))"
   ]
  },
  {
   "cell_type": "code",
   "execution_count": 9,
   "id": "a9dc084d-c80a-4fdc-aaf7-9bb0df344320",
   "metadata": {},
   "outputs": [
    {
     "name": "stdout",
     "output_type": "stream",
     "text": [
      "Hello user\n",
      "Hello Kelani\n"
     ]
    }
   ],
   "source": [
    "#lambda functions with default argument\n",
    "greet=lambda name='user':print(f\"Hello {name}\")\n",
    "greet()\n",
    "greet(\"Kelani\")"
   ]
  },
  {
   "cell_type": "markdown",
   "id": "fc204017-346f-4523-9fd5-25fa097e809f",
   "metadata": {},
   "source": [
    "## 1.map():"
   ]
  },
  {
   "cell_type": "markdown",
   "id": "0922eefa-8efd-4a45-92bf-a85926d4b605",
   "metadata": {},
   "source": [
    "**Purpose**:applies a given function to all items in an input list or (any iterable) and returns a map object which can be converted to a list"
   ]
  },
  {
   "cell_type": "code",
   "execution_count": 18,
   "id": "c58af3db-3e4f-4892-a356-249489f1abff",
   "metadata": {},
   "outputs": [
    {
     "name": "stdout",
     "output_type": "stream",
     "text": [
      "[1, 4, 9, 16, 25]\n"
     ]
    }
   ],
   "source": [
    "numbers=[1,2,3,4,5]\n",
    "squaring=lambda x:x**2\n",
    "squared_numbers=list(map(squaring,numbers))\n",
    "print(squared_numbers)"
   ]
  },
  {
   "cell_type": "markdown",
   "id": "7cec52d3-7d98-4b6c-bf17-a595cae36f06",
   "metadata": {},
   "source": [
    "## 2.filter():"
   ]
  },
  {
   "cell_type": "markdown",
   "id": "43ca551b-be71-49aa-832c-3736b2b0d326",
   "metadata": {},
   "source": [
    "**Purpose**:creates a list of elements for which a function returns True, it is used to filter out unwanted elements from an iterable"
   ]
  },
  {
   "cell_type": "code",
   "execution_count": 22,
   "id": "87433e10-fb3f-41f8-bf77-532318103207",
   "metadata": {},
   "outputs": [
    {
     "name": "stdout",
     "output_type": "stream",
     "text": [
      "[2, 4, 6]\n"
     ]
    }
   ],
   "source": [
    "numbers=[1,2,3,4,5,6]\n",
    "even_check=lambda x: x%2==0 #this function returns True or False\n",
    "even=list(filter(even_check,numbers))\n",
    "print(even)\n"
   ]
  },
  {
   "cell_type": "markdown",
   "id": "a56c7394-2b91-471a-97ae-467ca68ad5d8",
   "metadata": {},
   "source": [
    "## 3.reduce():"
   ]
  },
  {
   "cell_type": "markdown",
   "id": "e318bc1e-ed69-4bb0-93e4-f0bbfa79588e",
   "metadata": {},
   "source": [
    "**Purpose**:it applies rolling computation to sequential pairs of values in an iterable, ultimately reducing it to a single value,module functools must be importes"
   ]
  },
  {
   "cell_type": "code",
   "execution_count": 29,
   "id": "ebfb7b64-0f93-4c75-b3bb-21c0face6bbf",
   "metadata": {},
   "outputs": [
    {
     "name": "stdout",
     "output_type": "stream",
     "text": [
      "15\n"
     ]
    }
   ],
   "source": [
    "from functools import reduce\n",
    "numbers=[1,2,3,4,5]\n",
    "sum_result=reduce(lambda x,y:x+y,numbers)\n",
    "print(sum_result)"
   ]
  },
  {
   "cell_type": "markdown",
   "id": "1eed4a5e-928e-4a4f-870c-51ed08567420",
   "metadata": {},
   "source": [
    "## Higher-Order Functions"
   ]
  },
  {
   "cell_type": "markdown",
   "id": "a37c22cc-9302-459f-9222-f5cf2ac1189d",
   "metadata": {},
   "source": [
    "**Definition**:they are functions that take another functions as arguments or return them as results\n",
    "**Characterestics**:\n",
    "1. widely used in functional pogramming.\n",
    "2. examples like: map(),filter(), and custom higher-order functions.\n",
    "3. enables more abstract and concise code."
   ]
  },
  {
   "cell_type": "code",
   "execution_count": 38,
   "id": "a078d23b-099e-402f-ab94-742d5dad9277",
   "metadata": {},
   "outputs": [
    {
     "name": "stdout",
     "output_type": "stream",
     "text": [
      "25\n"
     ]
    }
   ],
   "source": [
    "def apply_func(func,x):\n",
    "    return func(x)\n",
    "\n",
    "print(apply_func(lambda x:x**2,5))"
   ]
  },
  {
   "cell_type": "markdown",
   "id": "6a4c9611-b58b-40bd-b5bc-0b113d2eb816",
   "metadata": {},
   "source": [
    "# Scope and Lifetime of Variables:"
   ]
  },
  {
   "cell_type": "markdown",
   "id": "a8289ac7-3244-4f30-afdd-3b10d6e8f65b",
   "metadata": {},
   "source": [
    "**Definition**:Scope refers to the region of the program where a variable can be accessed. Lifetime refers to how long the variable remains in memory.\n",
    "**Characterstics**:\n",
    "1. Local scope:Variables defined inside a function are accessible only within that function.\n",
    "2. Global scope:Variables defined outside functions are accessible throughout the script.\n",
    "3. Global Keyword:used to modify a global varibale inside a function.\n",
    "4. Nonlocal Keyword:used to modify outer variables, but in non globbal scope.\n",
    "5. Variables in loops or conditional blocks are accessible outside of these bloks."
   ]
  },
  {
   "cell_type": "code",
   "execution_count": 44,
   "id": "52de52ff-2ea8-4cb6-94ae-20d30724976a",
   "metadata": {},
   "outputs": [
    {
     "name": "stdout",
     "output_type": "stream",
     "text": [
      "5\n",
      "10\n"
     ]
    }
   ],
   "source": [
    "#local vs global scope\n",
    "x=10\n",
    "def example():\n",
    "    x=5 #here x is not the variable defined above, it is just shadowing the name\n",
    "    print(x)\n",
    "example()\n",
    "print(x)"
   ]
  },
  {
   "cell_type": "code",
   "execution_count": 46,
   "id": "bddf555f-4071-486c-8efd-0e5a279401a3",
   "metadata": {},
   "outputs": [
    {
     "name": "stdout",
     "output_type": "stream",
     "text": [
      "20\n",
      "20\n"
     ]
    }
   ],
   "source": [
    "#to modify the global variable in a function we use global keyword\n",
    "x=10\n",
    "def example2():\n",
    "    global x\n",
    "    x=20\n",
    "    print(x)\n",
    "\n",
    "example2()\n",
    "print(x)"
   ]
  },
  {
   "cell_type": "code",
   "execution_count": 48,
   "id": "d4059009-1346-4335-90e3-7e9b6b357440",
   "metadata": {},
   "outputs": [
    {
     "name": "stdout",
     "output_type": "stream",
     "text": [
      "Inner x:5\n",
      "Outer x:10\n"
     ]
    }
   ],
   "source": [
    "#variables with the same name in different scopes\n",
    "def outer():\n",
    "    x=10 #local variable for outer() function\n",
    "    def inner():\n",
    "        x=5 #local variable for inner()function\n",
    "        print(f\"Inner x:{x}\")\n",
    "    inner()\n",
    "    print(f\"Outer x:{x}\")\n",
    "\n",
    "outer()"
   ]
  },
  {
   "cell_type": "code",
   "execution_count": 52,
   "id": "4ee0b76a-e8bb-4f7e-a62d-a87470e1b6a5",
   "metadata": {},
   "outputs": [
    {
     "name": "stdout",
     "output_type": "stream",
     "text": [
      "Message taken from outer: Batman\n"
     ]
    }
   ],
   "source": [
    "# functions closure (inner functions accessing variables from outer functions)\n",
    "def outer(message):\n",
    "    def inner():\n",
    "        print(f\"Message taken from outer: {message}\")\n",
    "    return inner\n",
    "\n",
    "func=outer(\"Batman\")\n",
    "func()"
   ]
  },
  {
   "cell_type": "code",
   "execution_count": 56,
   "id": "6827143a-0405-4301-b218-61f08134e4f5",
   "metadata": {},
   "outputs": [
    {
     "name": "stdout",
     "output_type": "stream",
     "text": [
      "100\n",
      "4\n",
      "4\n"
     ]
    }
   ],
   "source": [
    "#scope within loops and conditional blocks\n",
    "if True:\n",
    "    x=100 # x is available globally after the if block\n",
    "print(x)\n",
    "\n",
    "for i in range(5):\n",
    "    y=i # y is available globally after the loop , i is also available globally after the loop\n",
    "print(y)\n",
    "print(i)\n",
    "    "
   ]
  },
  {
   "cell_type": "code",
   "execution_count": 58,
   "id": "41041fb9-b38e-461c-8c08-996bedb6e6e3",
   "metadata": {},
   "outputs": [
    {
     "name": "stdout",
     "output_type": "stream",
     "text": [
      "Inside function x: 20\n",
      "Outside function x: 10\n"
     ]
    }
   ],
   "source": [
    "#shadowing concept\n",
    "x=10\n",
    "def test():\n",
    "    x=20 #this is a local variable in the scope of functon test()\n",
    "    #while in this scope it shadows the global variable x\n",
    "    print(f\"Inside function x: {x}\")\n",
    "test()\n",
    "print(f\"Outside function x: {x}\")"
   ]
  },
  {
   "cell_type": "code",
   "execution_count": null,
   "id": "8e410a34-90a7-44bd-8d59-1e00c466ccb1",
   "metadata": {},
   "outputs": [],
   "source": []
  }
 ],
 "metadata": {
  "kernelspec": {
   "display_name": "Python 3 (ipykernel)",
   "language": "python",
   "name": "python3"
  },
  "language_info": {
   "codemirror_mode": {
    "name": "ipython",
    "version": 3
   },
   "file_extension": ".py",
   "mimetype": "text/x-python",
   "name": "python",
   "nbconvert_exporter": "python",
   "pygments_lexer": "ipython3",
   "version": "3.12.7"
  }
 },
 "nbformat": 4,
 "nbformat_minor": 5
}
