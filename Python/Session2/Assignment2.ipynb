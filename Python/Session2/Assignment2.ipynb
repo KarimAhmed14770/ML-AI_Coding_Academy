{
 "cells": [
  {
   "cell_type": "code",
   "execution_count": 24,
   "id": "23d808bd-dac2-4d34-b84f-4139893ca1ac",
   "metadata": {},
   "outputs": [],
   "source": [
    "add= lambda x,y : x+y\n",
    "sub= lambda x,y : x-y\n",
    "div= lambda x,y : x*y\n",
    "mult= lambda x,y : x/y\n",
    "\n",
    "def calculator():\n",
    "    while(True):\n",
    "        result=0\n",
    "        x=float(input(\"Enter the first number: \"))\n",
    "        y=float(input(\"Enter the second number: \"))\n",
    "        operation=input(\"for addition enter (+)\\nfor subtraction enter(-)\\nfor multiplication enter(*)\\nfor division enter(/)\\nto exit enter(q)\")\n",
    "        if (operation==\"+\"):\n",
    "            result=x+y\n",
    "        elif (operation==\"-\"):\n",
    "            result=x-y\n",
    "        elif (operation==\"*\"):\n",
    "            result=x*y\n",
    "        elif (operation==\"/\"):\n",
    "            result=x/y\n",
    "        elif (operation==\"q\" or operation==\"Q\"):\n",
    "            break\n",
    "        else:\n",
    "            print(\"Invalid input,Try again\")\n",
    "            continue\n",
    "        print(f\"{x} {operation} {y} ={result}\")\n",
    "        choice=input(\"to continue press (y) to exit press anything else\")\n",
    "        if(choice==\"y\" or choice ==\"Y\"):\n",
    "            continue\n",
    "        else:\n",
    "            break\n",
    "            \n"
   ]
  },
  {
   "cell_type": "code",
   "execution_count": 26,
   "id": "e5d17fe3-fab9-4393-9a62-a57c0fe5e2c4",
   "metadata": {},
   "outputs": [
    {
     "name": "stdin",
     "output_type": "stream",
     "text": [
      "Enter the first number:  20\n",
      "Enter the second number:  30\n",
      "for addition enter (+)\n",
      "for subtraction enter(-)\n",
      "for multiplication enter(*)\n",
      "for division enter(/)\n",
      "to exit enter(q) *\n"
     ]
    },
    {
     "name": "stdout",
     "output_type": "stream",
     "text": [
      "20.0 * 30.0 =600.0\n"
     ]
    },
    {
     "name": "stdin",
     "output_type": "stream",
     "text": [
      "to continue press (y) to exit press anything else Q\n"
     ]
    }
   ],
   "source": [
    "calculator()"
   ]
  },
  {
   "cell_type": "code",
   "execution_count": null,
   "id": "fa83a094-4c03-45d6-8ba8-74c069476c8a",
   "metadata": {},
   "outputs": [],
   "source": []
  }
 ],
 "metadata": {
  "kernelspec": {
   "display_name": "Python 3 (ipykernel)",
   "language": "python",
   "name": "python3"
  },
  "language_info": {
   "codemirror_mode": {
    "name": "ipython",
    "version": 3
   },
   "file_extension": ".py",
   "mimetype": "text/x-python",
   "name": "python",
   "nbconvert_exporter": "python",
   "pygments_lexer": "ipython3",
   "version": "3.12.7"
  }
 },
 "nbformat": 4,
 "nbformat_minor": 5
}
