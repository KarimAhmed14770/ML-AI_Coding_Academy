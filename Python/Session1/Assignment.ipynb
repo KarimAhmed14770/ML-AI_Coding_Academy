{
 "cells": [
  {
   "cell_type": "code",
   "execution_count": 10,
   "id": "91f69b4d-c686-473c-be36-1b3bbedf31a7",
   "metadata": {},
   "outputs": [
    {
     "name": "stdin",
     "output_type": "stream",
     "text": [
      "Enter two numbers seperated by a space 20 10\n",
      "enter an operation (+ , - , * , / ) a\n"
     ]
    },
    {
     "name": "stdout",
     "output_type": "stream",
     "text": [
      "Invalid Operation, Try again!\n"
     ]
    }
   ],
   "source": [
    "num1,num2=input(\"Enter two numbers seperated by a space\").split()\n",
    "operation=input(\"enter an operation (+ , - , * , / )\")\n",
    "num1=float(num1)\n",
    "num2=float(num2)\n",
    "if(operation=='+'):\n",
    "    print(num1+num2)\n",
    "elif (operation=='-'):\n",
    "    print(num1-num2)\n",
    "elif (operation=='/'):\n",
    "    print(num1/num2)\n",
    "elif (operation=='*'):\n",
    "    print(num1*num2)\n",
    "else:\n",
    "    print(\"Invalid Operation, Try again!\")"
   ]
  },
  {
   "cell_type": "code",
   "execution_count": null,
   "id": "914a7e49-a7e3-47a4-b55d-4249ea93f5d6",
   "metadata": {},
   "outputs": [],
   "source": []
  }
 ],
 "metadata": {
  "kernelspec": {
   "display_name": "Python 3 (ipykernel)",
   "language": "python",
   "name": "python3"
  },
  "language_info": {
   "codemirror_mode": {
    "name": "ipython",
    "version": 3
   },
   "file_extension": ".py",
   "mimetype": "text/x-python",
   "name": "python",
   "nbconvert_exporter": "python",
   "pygments_lexer": "ipython3",
   "version": "3.12.7"
  }
 },
 "nbformat": 4,
 "nbformat_minor": 5
}
