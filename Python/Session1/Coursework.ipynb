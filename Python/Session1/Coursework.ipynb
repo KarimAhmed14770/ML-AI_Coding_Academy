{
 "cells": [
  {
   "cell_type": "code",
   "execution_count": 4,
   "id": "1886c436-433d-46ab-8d97-5b436df3e6e2",
   "metadata": {},
   "outputs": [
    {
     "name": "stdout",
     "output_type": "stream",
     "text": [
      "Hello, World!\n",
      "Hello, World!\n",
      "Hello, World!\n",
      "Hello World !\n",
      "Hello\n",
      "World\n",
      "!\n"
     ]
    }
   ],
   "source": [
    "#printing hello world\n",
    "print(\"Hello, World!\")\n",
    "print('Hello, World!')\n",
    "\n",
    "#concatenating strings\n",
    "print(\"Hello,\" +\" \" + \"World!\")\n",
    "\n",
    "#print(*objects,sep=\" \", end=\"\\n\", flush=false) sep is the seperator it is \" \" by default, \n",
    "#end is the end character it is '\\n' by default\n",
    "\n",
    "print('Hello','World','!')\n",
    "\n",
    "print('Hello\\nWorld\\n!')\n",
    "\n"
   ]
  },
  {
   "cell_type": "code",
   "execution_count": 30,
   "id": "e0f3af54-d0f6-4eb8-8c89-5f9daf6a58ef",
   "metadata": {},
   "outputs": [
    {
     "name": "stdout",
     "output_type": "stream",
     "text": [
      "hello \n",
      "My name is Karim\n",
      "i\tam\tvery\thappy\n",
      "inserting backslash \\\n",
      "inserting sinqle quote '\n",
      "inserting double quote \"\n",
      "returnge\n",
      "backspac\n",
      "\u0007\n",
      "page1\f",
      "page2\n",
      "Ω\n",
      "α\n"
     ]
    }
   ],
   "source": [
    "#Escape Sequences\n",
    "#\\n for newline\n",
    "#\\t for horizontal tab\n",
    "#\\\\ for backslash\n",
    "#\\' or \\\" for single or double quote\n",
    "#\\r carriage return, moves the cursor to the beginning of the line without advancing to the next line\n",
    "#\\b backspace Moves the cursor one position back (deletes the previous character)\n",
    "#\\f formfeed insert a form feed which means moving to the next page\n",
    "#\\a produces alarm sound on some systems\n",
    "\n",
    "print(\"hello \\nMy name is Karim\")\n",
    "print(\"i\\tam\\tvery\\thappy\")\n",
    "print(\"inserting backslash \\\\\")\n",
    "print(\"inserting sinqle quote \\'\")\n",
    "print(\"inserting double quote \\\"\")\n",
    "print(\"carriage\\rreturn\")\n",
    "print(\"backspace\\b\")\n",
    "print('\\a')\n",
    "print(\"page1\\fpage2\")\n",
    "\n",
    "#unicode character\n",
    "#unicode character(\\uxxxx or \\Uxxxxxxxx):represents a unicode character by its code in hexadecimal\n",
    "print('\\u03A9') #for greek letter omega\n",
    "print('\\u03B1')#for alpha\n"
   ]
  },
  {
   "cell_type": "code",
   "execution_count": 34,
   "id": "c56df4be-152d-44fc-8f97-30a2dce818d0",
   "metadata": {},
   "outputs": [
    {
     "name": "stdout",
     "output_type": "stream",
     "text": [
      "this \\n is\\t a\\n raw string\n"
     ]
    }
   ],
   "source": [
    "#Raw Strings\n",
    "# if you want to indicate that this is a raw string put r before \"\" in print\n",
    "print(r\"this \\n is\\t a\\n raw string\")"
   ]
  },
  {
   "cell_type": "code",
   "execution_count": 36,
   "id": "544d3a80-23fe-4545-84a8-262735f6024e",
   "metadata": {},
   "outputs": [
    {
     "name": "stdout",
     "output_type": "stream",
     "text": [
      "25\n"
     ]
    }
   ],
   "source": [
    "#Basic Syntax and Structure\n",
    "#integer\n",
    "age=25\n",
    "print(age)"
   ]
  },
  {
   "cell_type": "code",
   "execution_count": 38,
   "id": "bedaa11b-8447-48fa-99c2-71334f788ff3",
   "metadata": {},
   "outputs": [
    {
     "name": "stdout",
     "output_type": "stream",
     "text": [
      "19.99\n"
     ]
    }
   ],
   "source": [
    "#float\n",
    "price=19.99\n",
    "print(price)"
   ]
  },
  {
   "cell_type": "code",
   "execution_count": 40,
   "id": "0d2f3e5f-e668-4346-bbed-bf08c4eaaee4",
   "metadata": {},
   "outputs": [
    {
     "name": "stdout",
     "output_type": "stream",
     "text": [
      "john\n"
     ]
    }
   ],
   "source": [
    "#string\n",
    "name='john'\n",
    "print(name)"
   ]
  },
  {
   "cell_type": "code",
   "execution_count": 42,
   "id": "0a5270b4-ea2f-4403-9099-4581f4c697e1",
   "metadata": {},
   "outputs": [
    {
     "name": "stdout",
     "output_type": "stream",
     "text": [
      "False\n"
     ]
    }
   ],
   "source": [
    "#boolean\n",
    "is_valid=False\n",
    "print(is_valid)"
   ]
  },
  {
   "cell_type": "code",
   "execution_count": 44,
   "id": "602fec14-f481-47d0-9f80-9045feb8f8d9",
   "metadata": {},
   "outputs": [
    {
     "name": "stdout",
     "output_type": "stream",
     "text": [
      "30\n"
     ]
    }
   ],
   "source": [
    "#reassigning variables\n",
    "age=30\n",
    "print(age)"
   ]
  },
  {
   "cell_type": "code",
   "execution_count": 46,
   "id": "2d7cc975-b2bc-43ba-96ba-36edfa85d85b",
   "metadata": {},
   "outputs": [
    {
     "name": "stdout",
     "output_type": "stream",
     "text": [
      "Twenty Dollars\n"
     ]
    }
   ],
   "source": [
    "#changing type dynamically\n",
    "price='Twenty Dollars'\n",
    "print(price)"
   ]
  },
  {
   "cell_type": "code",
   "execution_count": 50,
   "id": "d8d7bdf8-072a-4100-b298-91e3f6a1fcf6",
   "metadata": {},
   "outputs": [
    {
     "name": "stdout",
     "output_type": "stream",
     "text": [
      "10\n",
      "20.5\n",
      "c\n"
     ]
    }
   ],
   "source": [
    "#multiple assignments\n",
    "a,b,c=10,20.5,'c'\n",
    "print(a,b,c,sep='\\n')"
   ]
  },
  {
   "cell_type": "code",
   "execution_count": 52,
   "id": "88040427-007d-4606-859a-d6edd5e85937",
   "metadata": {},
   "outputs": [
    {
     "name": "stdout",
     "output_type": "stream",
     "text": [
      "20.5 10\n"
     ]
    }
   ],
   "source": [
    "#swappig variables\n",
    "a,b=b,a\n",
    "print(a,b)"
   ]
  },
  {
   "cell_type": "code",
   "execution_count": 56,
   "id": "1868fade-e4e8-4028-9eb6-6c3318a91ffe",
   "metadata": {},
   "outputs": [
    {
     "name": "stdout",
     "output_type": "stream",
     "text": [
      "13\n",
      "7\n",
      "30\n",
      "3.3333333333333335\n",
      "3\n",
      "1\n",
      "1000\n"
     ]
    }
   ],
   "source": [
    "#basic operators\n",
    "#+,-,/,*\n",
    "#floor division //\n",
    "#modulus %\n",
    "#exponentiation **\n",
    "a=10 \n",
    "b=3\n",
    "print(a+b)\n",
    "print(a-b)\n",
    "print(a*b)\n",
    "print(a/b)\n",
    "print(a//b)\n",
    "print(a%b)\n",
    "print(a**b)\n",
    "\n"
   ]
  },
  {
   "cell_type": "code",
   "execution_count": 60,
   "id": "dd229c1b-d2a3-48dc-a44e-056aaf657dec",
   "metadata": {},
   "outputs": [
    {
     "name": "stdout",
     "output_type": "stream",
     "text": [
      "False\n",
      "True\n",
      "True\n",
      "False\n",
      "True\n",
      "False\n"
     ]
    }
   ],
   "source": [
    "#comparison operators\n",
    "#==,<,>,!=,>=,<=\n",
    "print(a==b)\n",
    "print(a!=b)\n",
    "print(a>b)\n",
    "print(a<b)\n",
    "print(a>=b)\n",
    "print(a<=b)"
   ]
  },
  {
   "cell_type": "code",
   "execution_count": 72,
   "id": "408dfe85-8fc0-4b1a-a8b0-c281ddb45290",
   "metadata": {},
   "outputs": [
    {
     "name": "stdout",
     "output_type": "stream",
     "text": [
      "True\n",
      "True\n",
      "False\n"
     ]
    }
   ],
   "source": [
    "#comparing strings (lexicographically)\n",
    "name1='Alice'\n",
    "name2='alice'\n",
    "name3='Ben'\n",
    "print(name1<name2)\n",
    "print(name1<name3)\n",
    "print(name2<name3)\n",
    "#uppercase letters are ahead of lower case letters"
   ]
  },
  {
   "cell_type": "code",
   "execution_count": 74,
   "id": "f0fb5c74-2e20-457b-85fd-998b058ce310",
   "metadata": {},
   "outputs": [
    {
     "name": "stdout",
     "output_type": "stream",
     "text": [
      "5\n",
      "7\n",
      "5\n",
      "25\n",
      "5.0\n",
      "3125.0\n"
     ]
    }
   ],
   "source": [
    "#assignment operators\n",
    "#==,+=,-=,*=,/=\n",
    "c=5\n",
    "print(c)\n",
    "c+=2 #c=c+2 =7\n",
    "print(c)\n",
    "c-=2 #c=c-2 =5\n",
    "print(c)\n",
    "c*=5 #c=c*5 =25\n",
    "print(c)\n",
    "c/=5 #c=c/5=5\n",
    "print(c)\n",
    "c**=c #c=c**5\n",
    "print(c)\n"
   ]
  },
  {
   "cell_type": "code",
   "execution_count": 80,
   "id": "ca89f747-7c7a-4e5b-81ab-1244c68c7be5",
   "metadata": {},
   "outputs": [
    {
     "name": "stdin",
     "output_type": "stream",
     "text": [
      "Enter your name karim\n"
     ]
    },
    {
     "name": "stdout",
     "output_type": "stream",
     "text": [
      "Hello karim\n"
     ]
    },
    {
     "name": "stdin",
     "output_type": "stream",
     "text": [
      "Enter your age 25\n"
     ]
    },
    {
     "name": "stdout",
     "output_type": "stream",
     "text": [
      "Hello karim you are 25 years old\n"
     ]
    },
    {
     "name": "stdin",
     "output_type": "stream",
     "text": [
      "Enter your Salary 100.89\n"
     ]
    },
    {
     "name": "stdout",
     "output_type": "stream",
     "text": [
      "your salary is 100.89\n"
     ]
    }
   ],
   "source": [
    "#input and output\n",
    "#the function input() is for allowing user to enter data, it returns user input as a string\n",
    "#the function print() outputs on the screen and it supports formatted printing using f before \"\"\n",
    "name=input(\"Enter your name\")\n",
    "print(\"Hello\",name)\n",
    "\n",
    "age=int(input(\"Enter your age\"))\n",
    "print(\"Hello \" +name,f\"you are {age} years old\")\n",
    "\n",
    "salary=float(input(\"Enter your Salary\"))\n",
    "print(\"your salary is\",f\"{salary}\")"
   ]
  },
  {
   "cell_type": "code",
   "execution_count": 98,
   "id": "1bbbfdf4-be90-4682-9707-87bc5a1b81d1",
   "metadata": {},
   "outputs": [
    {
     "name": "stdin",
     "output_type": "stream",
     "text": [
      "Enter a number (default 10):  10\n"
     ]
    },
    {
     "name": "stdout",
     "output_type": "stream",
     "text": [
      "Your number is 10\n"
     ]
    }
   ],
   "source": [
    "#Default inputs and type conversion\n",
    "number = input(\"Enter a number (default 10): \") or \"10\"\n",
    "print(f\"Your number is {int(number)}\")"
   ]
  },
  {
   "cell_type": "code",
   "execution_count": 106,
   "id": "6d6d12ce-c2dc-412a-ba65-7e30a118f7f4",
   "metadata": {},
   "outputs": [
    {
     "name": "stdin",
     "output_type": "stream",
     "text": [
      "enter two numbers seperated by a space 1 2\n"
     ]
    },
    {
     "name": "stdout",
     "output_type": "stream",
     "text": [
      "1 2\n"
     ]
    }
   ],
   "source": [
    "# handling multiple inputs at once\n",
    "a,b=input(\"enter two numbers seperated by a space\").split(' ')\n",
    "print(f\"{a} {b}\")\n",
    "# split() splits the inputs as different seperated inputs, you can decide the seperation\n",
    "# character to be a space coma or anything , default is white space .split(' ')"
   ]
  },
  {
   "cell_type": "code",
   "execution_count": 108,
   "id": "403552d5-85df-4018-815a-571221331e28",
   "metadata": {},
   "outputs": [
    {
     "name": "stdout",
     "output_type": "stream",
     "text": [
      "Hello ?world0"
     ]
    }
   ],
   "source": [
    "#using sep and end in print\n",
    "print(\"Hello\",\"world\",sep=' ?',end='0')"
   ]
  },
  {
   "cell_type": "code",
   "execution_count": 117,
   "id": "9af595c4-e7ba-41ac-b38f-c96268235f1d",
   "metadata": {},
   "outputs": [
    {
     "name": "stdout",
     "output_type": "stream",
     "text": [
      "a baby\n"
     ]
    }
   ],
   "source": [
    "#Control Structures\n",
    "#conditional statemments if,elif and else\n",
    "age=2\n",
    "if age>=18:\n",
    "    print(\"you are an adult\")\n",
    "elif age >=12:\n",
    "    print(\"yyou are a teen\")\n",
    "else:\n",
    "    print(\"a baby\")"
   ]
  },
  {
   "cell_type": "code",
   "execution_count": 119,
   "id": "25ad6e5c-6846-4470-9839-6b5b16c40f95",
   "metadata": {},
   "outputs": [
    {
     "name": "stdout",
     "output_type": "stream",
     "text": [
      "Grade: C\n"
     ]
    }
   ],
   "source": [
    "#nested conditions\n",
    "score=79\n",
    "if score>=90:\n",
    "    print(\"Grade: A\")\n",
    "else:\n",
    "    if score>=80:\n",
    "        print(\"Grade: B\")\n",
    "    else:\n",
    "        print(\"Grade: C\")\n",
    "        "
   ]
  },
  {
   "cell_type": "code",
   "execution_count": 121,
   "id": "f3a2c506-779f-4ffe-8928-aa82d3a86653",
   "metadata": {},
   "outputs": [
    {
     "name": "stdout",
     "output_type": "stream",
     "text": [
      "Pass\n"
     ]
    }
   ],
   "source": [
    "#inline Conditional\n",
    "result=\"Pass\" if score>=50 else \"Fail\"\n",
    "print(result)"
   ]
  },
  {
   "cell_type": "code",
   "execution_count": 127,
   "id": "a70675de-3043-4205-a541-d151ec842b47",
   "metadata": {},
   "outputs": [
    {
     "name": "stdout",
     "output_type": "stream",
     "text": [
      "you can't enter\n"
     ]
    }
   ],
   "source": [
    "#Logical operators\n",
    "#and,or,not\n",
    "has_ticket=False\n",
    "has_id=False\n",
    "if has_ticket and has_id:\n",
    "    print(\"you may enter\")\n",
    "elif has_ticket or has_id:\n",
    "    print(\"you may enter with caution\")\n",
    "else:\n",
    "    print(\"you can't enter\")"
   ]
  },
  {
   "cell_type": "code",
   "execution_count": null,
   "id": "9144a4ca-5db3-456e-9156-c42ece7972e2",
   "metadata": {},
   "outputs": [],
   "source": []
  }
 ],
 "metadata": {
  "kernelspec": {
   "display_name": "Python 3 (ipykernel)",
   "language": "python",
   "name": "python3"
  },
  "language_info": {
   "codemirror_mode": {
    "name": "ipython",
    "version": 3
   },
   "file_extension": ".py",
   "mimetype": "text/x-python",
   "name": "python",
   "nbconvert_exporter": "python",
   "pygments_lexer": "ipython3",
   "version": "3.12.7"
  }
 },
 "nbformat": 4,
 "nbformat_minor": 5
}
