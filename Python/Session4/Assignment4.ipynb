{
 "cells": [
  {
   "cell_type": "markdown",
   "id": "cda16876-9009-449e-a2d7-05a5f3470b42",
   "metadata": {},
   "source": [
    "## Challenge1:Word frequency Counter\n"
   ]
  },
  {
   "cell_type": "code",
   "execution_count": 22,
   "id": "f9f5281b-7ca3-4f71-bf5e-05c37eaaa753",
   "metadata": {},
   "outputs": [
    {
     "name": "stdin",
     "output_type": "stream",
     "text": [
      "Enter your text:  The cat sat on the mat The cat a fluffy cat was a very happy cat The mat was old and the mat was faded\n"
     ]
    },
    {
     "name": "stdout",
     "output_type": "stream",
     "text": [
      "words' counter: {'cat': 4, 'and': 1, 'mat': 3, 'happy': 1, 'fluffy': 1, 'on': 1, 'The': 3, 'sat': 1, 'the': 2, 'was': 3, 'very': 1, 'old': 1, 'a': 2, 'faded': 1}\n"
     ]
    }
   ],
   "source": [
    "text=input('Enter your text: ')\n",
    "words=text.split(\" \")\n",
    "keys=set(words)\n",
    "my_dict={}\n",
    "for key in keys:\n",
    "    my_dict[key]=0\n",
    "\n",
    "for i in words:\n",
    "    if i in my_dict:\n",
    "        my_dict[i]+=1\n",
    "print(\"words' counter: \",end=\"\")\n",
    "print(my_dict)\n"
   ]
  },
  {
   "cell_type": "markdown",
   "id": "5d139c3b-461f-44d6-a34e-244dd7ce8e2c",
   "metadata": {},
   "source": [
    "## Challenge 2:List Comprehension"
   ]
  },
  {
   "cell_type": "code",
   "execution_count": 31,
   "id": "4192e36c-9886-4bfa-90ae-7f0bf45810cb",
   "metadata": {},
   "outputs": [
    {
     "name": "stdin",
     "output_type": "stream",
     "text": [
      "Enter a list of numbers seperated with whitespace:  1 2 3 4 5 6 7 8 9 10 11 12\n"
     ]
    },
    {
     "name": "stdout",
     "output_type": "stream",
     "text": [
      "[4, 16, 36, 64, 100, 144]\n"
     ]
    }
   ],
   "source": [
    "string_numbers=input(\"Enter a list of numbers seperated with whitespace: \")\n",
    "string_numbers=string_numbers.split()\n",
    "numbers=[]\n",
    "for number in string_numbers:\n",
    "    numbers.append(int(number))\n",
    "\n",
    "squares_of_evens = [x**2 for x in numbers if x % 2 == 0]\n",
    "print(squares_of_evens)\n",
    "    \n",
    "            "
   ]
  },
  {
   "cell_type": "code",
   "execution_count": null,
   "id": "e21b9c97-b993-42bb-863e-1a4160e294fa",
   "metadata": {},
   "outputs": [],
   "source": []
  }
 ],
 "metadata": {
  "kernelspec": {
   "display_name": "Python 3 (ipykernel)",
   "language": "python",
   "name": "python3"
  },
  "language_info": {
   "codemirror_mode": {
    "name": "ipython",
    "version": 3
   },
   "file_extension": ".py",
   "mimetype": "text/x-python",
   "name": "python",
   "nbconvert_exporter": "python",
   "pygments_lexer": "ipython3",
   "version": "3.12.7"
  }
 },
 "nbformat": 4,
 "nbformat_minor": 5
}
