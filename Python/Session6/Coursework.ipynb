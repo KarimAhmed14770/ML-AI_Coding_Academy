{
 "cells": [
  {
   "cell_type": "markdown",
   "id": "399b6598-7c69-4e32-98ce-893873cee766",
   "metadata": {},
   "source": [
    "# Exploratory data analysis(EDA):"
   ]
  },
  {
   "cell_type": "markdown",
   "id": "6420e6cc-af7e-4d08-bf78-1af1ab72647d",
   "metadata": {},
   "source": [
    "**EDA**: is a way of visualizing,summarizing and interpreting the information that is hidden in the data stored in rows and columns.\n",
    "1. it helps uncovering patterns,relationships, and anomalies in the data.\n",
    "2. EDA is used to achieve important insights and statistical measures that are essential for both business decision-making and data science projects.\n",
    "3. Applying descriptive statistics and visualizations,EDA makes it easirer to understand the structure and meaning of data before moving to predective modeling or machine learning.\n",
    "\n",
    "**Python Libraries that are helpful for EDA**:\n",
    "1. **Numpy**: for fast handling of numbers and arrays of data.(perform mathematical and numerical operations in data analysis)\n",
    "2. **Pandas**: Organize and analyze dta in table-like structures.(Data cleaning,handling missing values, and extracting insights).\n",
    "3. **Matplotlib**: Create basic charts and plots.(visualize data with line plots,bar charts,scatter plots, distribution plots)\n",
    "4. **Seaborn**: Build attractive and easy statistical plots.(Explore patterns and relationships with heatmaps, pair plots, distribution plots)\n",
    "\n",
    "Numpy+Pandas=Data processing.\n",
    "Matplotlib+Seaborn=Data visualization."
   ]
  },
  {
   "cell_type": "markdown",
   "id": "3cf48d31-f347-4172-ab4d-afa1b57fdf1c",
   "metadata": {},
   "source": [
    "# Introduction to Numpy:"
   ]
  },
  {
   "cell_type": "markdown",
   "id": "43068ac0-2704-49fe-90a9-cf09af10d394",
   "metadata": {},
   "source": [
    "**Numpy**: is a linear algebra python library. short for numerical python. it is very important for data science and data analysis.\n",
    "- it provides multidimensional array objects(ndarray) and a large collection of mathematical procedures to process them.\n",
    "- Numpy Array is optimized array structure.\n",
    "- Very Efficient for mathematical operations.\n",
    "- Multi-Dimensional Arrays are great for linear lgebra and matrix operations.\n",
    "- performs operations much faster than pure python lists.\n",
    "- Mutable,Homogeneos(data type is one type in numpy array) and indexable.\n",
    "- Free and open-source"
   ]
  },
  {
   "cell_type": "code",
   "execution_count": 5,
   "id": "185961a8-5311-41d5-b781-5065c441ebfb",
   "metadata": {},
   "outputs": [
    {
     "name": "stdout",
     "output_type": "stream",
     "text": [
      "2.3.2\n"
     ]
    }
   ],
   "source": [
    "import numpy as np\n",
    "print(np.__version__)"
   ]
  },
  {
   "cell_type": "markdown",
   "id": "10ba479a-af47-466d-a373-7b489cd3e175",
   "metadata": {},
   "source": [
    "## 1) Creating Numpy Arrays:"
   ]
  },
  {
   "cell_type": "code",
   "execution_count": 7,
   "id": "80c988f7-0988-482e-ae29-362dc668fdf0",
   "metadata": {},
   "outputs": [
    {
     "name": "stdout",
     "output_type": "stream",
     "text": [
      "<class 'numpy.ndarray'>\n",
      "[1 2 3 4 5]\n"
     ]
    }
   ],
   "source": [
    "#we can create an array by directly converting a list or lit of lists:\n",
    "my_list=[1,2,3,4,5]\n",
    "arr=np.array(my_list)\n",
    "print(type(arr))\n",
    "print(arr)\n"
   ]
  },
  {
   "cell_type": "code",
   "execution_count": 8,
   "id": "3765cfc2-f0d2-4aac-a37b-415aaf885510",
   "metadata": {},
   "outputs": [
    {
     "name": "stdout",
     "output_type": "stream",
     "text": [
      "<class 'numpy.ndarray'>\n",
      "[[1 2 3]\n",
      " [4 5 6]\n",
      " [7 8 9]]\n"
     ]
    }
   ],
   "source": [
    "#to create a matrix\n",
    "my_list=[[1,2,3],[4,5,6],[7,8,9]]\n",
    "my_matrix=np.array(my_list)\n",
    "print(type(my_matrix))\n",
    "print(my_matrix)\n"
   ]
  },
  {
   "cell_type": "code",
   "execution_count": 9,
   "id": "26f21def-0dae-436a-bdc0-6beac56271a8",
   "metadata": {},
   "outputs": [
    {
     "name": "stdout",
     "output_type": "stream",
     "text": [
      "Help on built-in function array in module numpy:\n",
      "\n",
      "array(...)\n",
      "    array(object, dtype=None, *, copy=True, order='K', subok=False, ndmin=0,\n",
      "          like=None)\n",
      "\n",
      "    Create an array.\n",
      "\n",
      "    Parameters\n",
      "    ----------\n",
      "    object : array_like\n",
      "        An array, any object exposing the array interface, an object whose\n",
      "        ``__array__`` method returns an array, or any (nested) sequence.\n",
      "        If object is a scalar, a 0-dimensional array containing object is\n",
      "        returned.\n",
      "    dtype : data-type, optional\n",
      "        The desired data-type for the array. If not given, NumPy will try to use\n",
      "        a default ``dtype`` that can represent the values (by applying promotion\n",
      "        rules when necessary.)\n",
      "    copy : bool, optional\n",
      "        If ``True`` (default), then the array data is copied. If ``None``,\n",
      "        a copy will only be made if ``__array__`` returns a copy, if obj is\n",
      "        a nested sequence, or if a copy is needed to satisfy any of the other\n",
      "        requirements (``dtype``, ``order``, etc.). Note that any copy of\n",
      "        the data is shallow, i.e., for arrays with object dtype, the new\n",
      "        array will point to the same objects. See Examples for `ndarray.copy`.\n",
      "        For ``False`` it raises a ``ValueError`` if a copy cannot be avoided.\n",
      "        Default: ``True``.\n",
      "    order : {'K', 'A', 'C', 'F'}, optional\n",
      "        Specify the memory layout of the array. If object is not an array, the\n",
      "        newly created array will be in C order (row major) unless 'F' is\n",
      "        specified, in which case it will be in Fortran order (column major).\n",
      "        If object is an array the following holds.\n",
      "\n",
      "        ===== ========= ===================================================\n",
      "        order  no copy                     copy=True\n",
      "        ===== ========= ===================================================\n",
      "        'K'   unchanged F & C order preserved, otherwise most similar order\n",
      "        'A'   unchanged F order if input is F and not C, otherwise C order\n",
      "        'C'   C order   C order\n",
      "        'F'   F order   F order\n",
      "        ===== ========= ===================================================\n",
      "\n",
      "        When ``copy=None`` and a copy is made for other reasons, the result is\n",
      "        the same as if ``copy=True``, with some exceptions for 'A', see the\n",
      "        Notes section. The default order is 'K'.\n",
      "    subok : bool, optional\n",
      "        If True, then sub-classes will be passed-through, otherwise\n",
      "        the returned array will be forced to be a base-class array (default).\n",
      "    ndmin : int, optional\n",
      "        Specifies the minimum number of dimensions that the resulting\n",
      "        array should have.  Ones will be prepended to the shape as\n",
      "        needed to meet this requirement.\n",
      "    like : array_like, optional\n",
      "        Reference object to allow the creation of arrays which are not\n",
      "        NumPy arrays. If an array-like passed in as ``like`` supports\n",
      "        the ``__array_function__`` protocol, the result will be defined\n",
      "        by it. In this case, it ensures the creation of an array object\n",
      "        compatible with that passed in via this argument.\n",
      "\n",
      "        .. versionadded:: 1.20.0\n",
      "\n",
      "    Returns\n",
      "    -------\n",
      "    out : ndarray\n",
      "        An array object satisfying the specified requirements.\n",
      "\n",
      "    See Also\n",
      "    --------\n",
      "    empty_like : Return an empty array with shape and type of input.\n",
      "    ones_like : Return an array of ones with shape and type of input.\n",
      "    zeros_like : Return an array of zeros with shape and type of input.\n",
      "    full_like : Return a new array with shape of input filled with value.\n",
      "    empty : Return a new uninitialized array.\n",
      "    ones : Return a new array setting values to one.\n",
      "    zeros : Return a new array setting values to zero.\n",
      "    full : Return a new array of given shape filled with value.\n",
      "    copy: Return an array copy of the given object.\n",
      "\n",
      "\n",
      "    Notes\n",
      "    -----\n",
      "    When order is 'A' and ``object`` is an array in neither 'C' nor 'F' order,\n",
      "    and a copy is forced by a change in dtype, then the order of the result is\n",
      "    not necessarily 'C' as expected. This is likely a bug.\n",
      "\n",
      "    Examples\n",
      "    --------\n",
      "    >>> import numpy as np\n",
      "    >>> np.array([1, 2, 3])\n",
      "    array([1, 2, 3])\n",
      "\n",
      "    Upcasting:\n",
      "\n",
      "    >>> np.array([1, 2, 3.0])\n",
      "    array([ 1.,  2.,  3.])\n",
      "\n",
      "    More than one dimension:\n",
      "\n",
      "    >>> np.array([[1, 2], [3, 4]])\n",
      "    array([[1, 2],\n",
      "           [3, 4]])\n",
      "\n",
      "    Minimum dimensions 2:\n",
      "\n",
      "    >>> np.array([1, 2, 3], ndmin=2)\n",
      "    array([[1, 2, 3]])\n",
      "\n",
      "    Type provided:\n",
      "\n",
      "    >>> np.array([1, 2, 3], dtype=complex)\n",
      "    array([ 1.+0.j,  2.+0.j,  3.+0.j])\n",
      "\n",
      "    Data-type consisting of more than one element:\n",
      "\n",
      "    >>> x = np.array([(1,2),(3,4)],dtype=[('a','<i4'),('b','<i4')])\n",
      "    >>> x['a']\n",
      "    array([1, 3], dtype=int32)\n",
      "\n",
      "    Creating an array from sub-classes:\n",
      "\n",
      "    >>> np.array(np.asmatrix('1 2; 3 4'))\n",
      "    array([[1, 2],\n",
      "           [3, 4]])\n",
      "\n",
      "    >>> np.array(np.asmatrix('1 2; 3 4'), subok=True)\n",
      "    matrix([[1, 2],\n",
      "            [3, 4]])\n",
      "\n"
     ]
    }
   ],
   "source": [
    "#use function help() to give ore info\n",
    "help(np.array)"
   ]
  },
  {
   "cell_type": "markdown",
   "id": "76870461-44c6-4954-b226-4219fcabad4a",
   "metadata": {},
   "source": [
    "## 2) Built-in Methods to generate arrays:"
   ]
  },
  {
   "cell_type": "code",
   "execution_count": 11,
   "id": "1a7bc9a8-b3f1-4816-80c7-e4f12af299f2",
   "metadata": {},
   "outputs": [
    {
     "name": "stdout",
     "output_type": "stream",
     "text": [
      "[ 1  2  3  4  5  6  7  8  9 10]\n",
      "<class 'numpy.ndarray'>\n"
     ]
    }
   ],
   "source": [
    "#like range() function used for list creation, there is arange() function for array creation\n",
    "my_arr=np.arange(1,11)\n",
    "print(my_arr)\n",
    "print(type(my_arr))"
   ]
  },
  {
   "cell_type": "code",
   "execution_count": 12,
   "id": "5d40ec4e-e837-4ab8-956b-a07a20dc3780",
   "metadata": {},
   "outputs": [
    {
     "name": "stdout",
     "output_type": "stream",
     "text": [
      "[0. 0. 0.]\n",
      "[[0. 0. 0. 0.]\n",
      " [0. 0. 0. 0.]\n",
      " [0. 0. 0. 0.]]\n",
      "[[[0. 0. 0.]\n",
      "  [0. 0. 0.]\n",
      "  [0. 0. 0.]]\n",
      "\n",
      " [[0. 0. 0.]\n",
      "  [0. 0. 0.]\n",
      "  [0. 0. 0.]]\n",
      "\n",
      " [[0. 0. 0.]\n",
      "  [0. 0. 0.]\n",
      "  [0. 0. 0.]]\n",
      "\n",
      " [[0. 0. 0.]\n",
      "  [0. 0. 0.]\n",
      "  [0. 0. 0.]]]\n"
     ]
    }
   ],
   "source": [
    "#zeros, ones , and eye(identity Matrix)\n",
    "#zeros(n) creates an n vector of zeros zeros((n,m)) creates an n*m matrix of zeros\n",
    "#zeros((n,m,k)) creates a 3d matrix of m*k *(2) of zeros\n",
    "m1=np.zeros(3)\n",
    "print(m1)\n",
    "m1=np.zeros((3,4))\n",
    "print(m1)\n",
    "m1=np.zeros((4,3,3))\n",
    "print(m1)\n"
   ]
  },
  {
   "cell_type": "code",
   "execution_count": 13,
   "id": "01093318-5ac6-4679-9bd0-96b9a0258f10",
   "metadata": {},
   "outputs": [
    {
     "name": "stdout",
     "output_type": "stream",
     "text": [
      "[1. 1. 1. 1. 1.]\n",
      "[[1. 1.]\n",
      " [1. 1.]\n",
      " [1. 1.]]\n",
      "[[[1. 1.]\n",
      "  [1. 1.]]\n",
      "\n",
      " [[1. 1.]\n",
      "  [1. 1.]]\n",
      "\n",
      " [[1. 1.]\n",
      "  [1. 1.]]]\n"
     ]
    }
   ],
   "source": [
    "#ones() same as zeroes but creates a matrix of ones\n",
    "m1=np.ones(5)\n",
    "print(m1)\n",
    "m1=np.ones((3,2))\n",
    "print(m1)\n",
    "m1=np.ones((3,2,2))\n",
    "print(m1)"
   ]
  },
  {
   "cell_type": "code",
   "execution_count": 14,
   "id": "39834c42-9b53-429a-93bc-6ff25dc7c87d",
   "metadata": {},
   "outputs": [
    {
     "name": "stdout",
     "output_type": "stream",
     "text": [
      "[[1. 0. 0.]\n",
      " [0. 1. 0.]\n",
      " [0. 0. 1.]]\n",
      "[[1. 0. 0.]\n",
      " [0. 1. 0.]\n",
      " [0. 0. 1.]]\n",
      "[[1. 0. 0. 0. 0.]\n",
      " [0. 1. 0. 0. 0.]\n",
      " [0. 0. 1. 0. 0.]\n",
      " [0. 0. 0. 1. 0.]\n",
      " [0. 0. 0. 0. 1.]]\n",
      "[[1. 0. 0.]\n",
      " [0. 1. 0.]]\n",
      "[[1. 0.]\n",
      " [0. 1.]\n",
      " [0. 0.]]\n"
     ]
    }
   ],
   "source": [
    "#eye(n,m) creates a matrix with ones on the main diagonal, it is flexible and the matrix\n",
    "#doesn't have to be squared\n",
    "m1=np.eye(3)\n",
    "print(m1)\n",
    "m1=np.eye(3,3)\n",
    "print(m1)\n",
    "m1=np.eye(5)\n",
    "print(m1)\n",
    "m1=np.eye(2,3)\n",
    "print(m1)\n",
    "m1=np.eye(3,2)\n",
    "print(m1)"
   ]
  },
  {
   "cell_type": "code",
   "execution_count": 15,
   "id": "82eb7135-0ee0-4f4a-af80-ffabd404200c",
   "metadata": {},
   "outputs": [
    {
     "name": "stdout",
     "output_type": "stream",
     "text": [
      "[[1. 0. 0. 0. 0.]\n",
      " [0. 1. 0. 0. 0.]\n",
      " [0. 0. 1. 0. 0.]\n",
      " [0. 0. 0. 1. 0.]\n",
      " [0. 0. 0. 0. 1.]]\n"
     ]
    }
   ],
   "source": [
    "#identity(n) it creates a square matrix of n*n with ones on the main diagonal\n",
    "m1=np.identity(5)\n",
    "print(m1)"
   ]
  },
  {
   "cell_type": "code",
   "execution_count": 16,
   "id": "bb5bf93a-8b48-49be-bc67-ff6469c9130b",
   "metadata": {},
   "outputs": [
    {
     "name": "stdout",
     "output_type": "stream",
     "text": [
      "[  0.  20.  40.  60.  80. 100.]\n",
      "<class 'numpy.ndarray'>\n",
      "[  0.  25.  50.  75. 100.]\n",
      "[ 0. 20. 40. 60. 80.]\n",
      "[ 0.          0.20408163  0.40816327  0.6122449   0.81632653  1.02040816\n",
      "  1.2244898   1.42857143  1.63265306  1.83673469  2.04081633  2.24489796\n",
      "  2.44897959  2.65306122  2.85714286  3.06122449  3.26530612  3.46938776\n",
      "  3.67346939  3.87755102  4.08163265  4.28571429  4.48979592  4.69387755\n",
      "  4.89795918  5.10204082  5.30612245  5.51020408  5.71428571  5.91836735\n",
      "  6.12244898  6.32653061  6.53061224  6.73469388  6.93877551  7.14285714\n",
      "  7.34693878  7.55102041  7.75510204  7.95918367  8.16326531  8.36734694\n",
      "  8.57142857  8.7755102   8.97959184  9.18367347  9.3877551   9.59183673\n",
      "  9.79591837 10.        ]\n"
     ]
    }
   ],
   "source": [
    "#linspace(start,stop,number of elements) function returns an array with \n",
    "#evenly spaced numbers over a specified interval\n",
    "#the end number is stop and not stop-1 unlike range() or np.arange()\n",
    "arr=np.linspace(0,100,6)\n",
    "print(arr)\n",
    "print(type(arr))\n",
    "arr=np.linspace(0,100,5)\n",
    "print(arr)\n",
    "#if you want to exclude the stop number like range() function set parameter\n",
    "#enpoint=False\n",
    "arr=np.linspace(0,100,5,endpoint=False)\n",
    "print(arr)\n",
    "arr=np.linspace(0,10,50)\n",
    "print(arr)"
   ]
  },
  {
   "cell_type": "code",
   "execution_count": 17,
   "id": "a988ad2c-1a51-4d56-ae90-d4fbbbfc4c7f",
   "metadata": {},
   "outputs": [
    {
     "name": "stdout",
     "output_type": "stream",
     "text": [
      "[0.77618544 0.48933636 0.16066573]\n",
      "[[0.24869554 0.95872207]\n",
      " [0.25599757 0.69689856]]\n",
      "[[[0.68732707 0.76834047 0.79714316]\n",
      "  [0.64763721 0.8608438  0.37773923]\n",
      "  [0.57314704 0.99869487 0.38883892]\n",
      "  [0.3700005  0.60696069 0.46628414]]\n",
      "\n",
      " [[0.08166653 0.43051729 0.108098  ]\n",
      "  [0.95156847 0.59587034 0.75728619]\n",
      "  [0.36824098 0.28833377 0.13621066]\n",
      "  [0.67213467 0.54568776 0.533897  ]]\n",
      "\n",
      " [[0.46070875 0.05411324 0.21668337]\n",
      "  [0.38499377 0.68068586 0.04647299]\n",
      "  [0.90150384 0.89618994 0.31581661]\n",
      "  [0.68152454 0.88651367 0.17655908]]]\n"
     ]
    }
   ],
   "source": [
    "#random functions in numpy \n",
    "#rand(),randn(),randint(),uniform(),normal()\n",
    "#np.random.rand(dimensions)  Generates random numbers from a uniform distribution \n",
    "#over the half-open interval [0.0, 1.0) with the given dimensions\n",
    "my_arr=np.random.rand(3)\n",
    "print(my_arr)\n",
    "my_arr=np.random.rand(2,2)\n",
    "print(my_arr)\n",
    "my_arr=np.random.rand(3,4,3)\n",
    "print(my_arr)\n"
   ]
  },
  {
   "cell_type": "code",
   "execution_count": 18,
   "id": "664b125a-d39f-4be0-ba9f-ad1852c54e06",
   "metadata": {},
   "outputs": [
    {
     "name": "stdout",
     "output_type": "stream",
     "text": [
      "[-1.52398526 -0.54071667  0.44926347  0.1214128  -0.29789991]\n",
      "[[-0.59662176  2.59169308]\n",
      " [-0.60697652 -0.88409935]]\n",
      "[[[ 0.10512224 -0.60653859  0.7731141 ]\n",
      "  [-0.01657414  1.08719047  0.42707744]\n",
      "  [ 0.33395827  0.01159796  0.24299225]]\n",
      "\n",
      " [[ 2.29329177  0.76969385  2.300708  ]\n",
      "  [ 0.71242701 -1.90979742  0.37157359]\n",
      "  [ 0.67379606 -0.31917086  1.05067086]]]\n"
     ]
    }
   ],
   "source": [
    "#randn(dimensions) Generates random numbers from a standard normal (Gaussian) distribution.\n",
    "#the numbers generated have a mean of 0 and a standard deviation of 1\n",
    "my_arr=np.random.randn(5)\n",
    "print(my_arr)\n",
    "my_arr=np.random.randn(2,2)\n",
    "print(my_arr)\n",
    "my_arr=np.random.randn(2,3,3)\n",
    "print(my_arr)"
   ]
  },
  {
   "cell_type": "code",
   "execution_count": 19,
   "id": "c24ca9ba-6769-4145-8277-37c3916a00a7",
   "metadata": {},
   "outputs": [
    {
     "name": "stdout",
     "output_type": "stream",
     "text": [
      "[0 6 1 0 1]\n",
      "[[0 5 5]\n",
      " [7 2 7]\n",
      " [6 4 6]]\n",
      "[[[0 9 9 0]\n",
      "  [7 0 9 1]\n",
      "  [3 4 0 4]]\n",
      "\n",
      " [[7 9 7 8]\n",
      "  [9 4 6 4]\n",
      "  [5 2 5 1]]]\n"
     ]
    }
   ],
   "source": [
    "#randint(start,stop,size)Purpose: Generates random integers from a specified range.\n",
    "#where stop is exclusive size is given as dimensions\n",
    "my_arr=np.random.randint(0,10,5)\n",
    "print(my_arr)\n",
    "my_arr=np.random.randint(0,10,(3,3))\n",
    "print(my_arr)\n",
    "my_arr=np.random.randint(0,10,(2,3,4))\n",
    "print(my_arr)\n"
   ]
  },
  {
   "cell_type": "code",
   "execution_count": 20,
   "id": "be6540a1-aa40-4ca5-ad26-239186805930",
   "metadata": {},
   "outputs": [
    {
     "name": "stdout",
     "output_type": "stream",
     "text": [
      "[3.14568489 4.76428684 2.54315831 5.53210603 5.91554085]\n",
      "[[6.29590863 7.71471954 7.21902583]\n",
      " [3.70505856 2.24785069 4.19380353]\n",
      " [3.21792757 9.05624157 4.20507945]]\n",
      "[[[9.03283957 0.18100029 4.46589117 4.10592843]\n",
      "  [3.71579192 9.84387382 9.18428167 4.166953  ]\n",
      "  [0.75354469 0.56311692 2.61819176 6.56708102]]\n",
      "\n",
      " [[2.16046894 7.96688004 1.42708314 0.05093604]\n",
      "  [1.25353961 2.46083006 5.11798711 8.03711889]\n",
      "  [9.33030822 5.94434396 4.61083955 7.98983653]]]\n"
     ]
    }
   ],
   "source": [
    "#uniform(start,stop,size) uniform is same as randint but it returns floats\n",
    "my_arr=np.random.uniform(0,10,5)\n",
    "print(my_arr)\n",
    "my_arr=np.random.uniform(0,10,(3,3))\n",
    "print(my_arr)\n",
    "my_arr=np.random.uniform(0,10,(2,3,4))\n",
    "print(my_arr)"
   ]
  },
  {
   "cell_type": "code",
   "execution_count": 21,
   "id": "45913502-1265-464d-8051-f40bb6505c6e",
   "metadata": {},
   "outputs": [
    {
     "name": "stdout",
     "output_type": "stream",
     "text": [
      "[ 9.45420751  9.68330562  8.37832642 11.29282594 10.02182162  9.00756098\n",
      "  9.30701139 10.3906884  11.36395036  8.74646282]\n",
      "[26.55226102 27.70520702 20.07103832 24.36190166 22.39650458 16.17006104\n",
      " 19.1193266  15.79371109 22.59225036 22.84205819 19.22299462 22.6459756\n",
      " 16.25880865 19.98515346 24.27045956 22.50523397 16.38799835 21.29827326\n",
      " 18.53846697 20.77481063 16.75753725 14.39696038 34.91898912 25.4752191\n",
      " 21.38309604 23.8936819  10.68612439 19.06977512 16.38709777 24.26354321\n",
      " 17.61501883 21.73920309 19.78740167 17.15607628 24.68572682 15.20906459\n",
      " 21.50171103 20.18648202 21.10996245 18.59250649 21.72061395 18.28325249\n",
      " 25.52832815 28.11588687 32.09469816 17.07028496 29.06148562 15.73617857\n",
      " 22.79455935 12.62371536 17.55192266 22.66935767 23.19556118 22.69245673\n",
      " 21.0657623  16.44104392 22.8224014  20.04764743 21.54968863 18.29284826\n",
      " 19.11857164 23.26382322 24.44726794 21.01281949 25.30981305 20.99503242\n",
      " 13.10005626 16.54283097 20.36600875 21.74421003 19.7141387  17.16561965\n",
      " 20.44081973 23.88646521 29.57164504 19.56448839 23.34369025 19.71557248\n",
      " 16.78868449 27.59698287 20.88242646 18.36102358  8.30305962  8.40005047\n",
      " 12.91112441 25.81729996 22.8184008  19.37142295 27.05842619 26.6870688\n",
      " 23.56356134 16.95793455 21.36539304 29.97912173 20.94487272 27.2920525\n",
      " 26.14592782 29.05140622 16.24106506 22.21959136]\n",
      "[[-3.69259368 -4.0583021  -3.99210699]\n",
      " [-3.62374668 -3.66582058 -3.84378463]\n",
      " [-7.57309076 -4.63065259 -4.99377987]]\n",
      "[[[ 94.01525578  92.40994469  97.82838487  85.10795574]\n",
      "  [ 87.67897192  78.11467486  91.11209745  93.73577685]\n",
      "  [103.04194977 119.04229796 108.74790758  96.0407425 ]\n",
      "  [ 99.66480639  96.01858274  90.41657649 106.31306662]\n",
      "  [ 88.71388355  96.35936467  92.2394296   91.68413442]]\n",
      "\n",
      " [[105.98479696  92.91460021  89.02514482 118.03680925]\n",
      "  [110.63830286 110.54065087  87.01573459  92.83783423]\n",
      "  [100.90904733 114.11087903  94.26986057 102.29599073]\n",
      "  [ 87.90863338  85.7618839   93.82306427 106.58604055]\n",
      "  [ 78.50271377  92.70898818 102.91189159  89.88315359]]]\n"
     ]
    }
   ],
   "source": [
    "#normal(mean,std_deviation,size) generates random numbers according to gaussaian distribution\n",
    "#over given mean and standard deviation, with the diensions of the array given in size\n",
    "my_arr=np.random.normal(10,1,10)\n",
    "print(my_arr)\n",
    "my_arr=np.random.normal(20,5,100)\n",
    "print(my_arr)\n",
    "my_arr=np.random.normal(-5,2,(3,3))\n",
    "print(my_arr)\n",
    "my_arr=np.random.normal(100,10,(2,5,4))\n",
    "print(my_arr)\n"
   ]
  },
  {
   "cell_type": "markdown",
   "id": "67ee4fa6-1c3c-4c51-b50c-2c09b095dedb",
   "metadata": {},
   "source": [
    "## 3)Numpy methods:"
   ]
  },
  {
   "cell_type": "code",
   "execution_count": 23,
   "id": "d52f32ce-cd0d-445e-b30c-376e11cb9c6f",
   "metadata": {},
   "outputs": [
    {
     "name": "stdout",
     "output_type": "stream",
     "text": [
      "[74 74 85  8 55 77 46 55 19 17  6 49 27 63 65 92 14 63 26 63]\n",
      "92 6 15 10\n"
     ]
    }
   ],
   "source": [
    "#max(), min(), argmax(),argmin()\n",
    "#max(),min() find maximum or minimum values in an array \n",
    "#argmax(), argmin() returns the index of the maximum or minimum value in the array \n",
    "my_arr=np.random.randint(0,100,20)\n",
    "print(my_arr)\n",
    "print(my_arr.max(),my_arr.min(),my_arr.argmax(),my_arr.argmin())"
   ]
  },
  {
   "cell_type": "code",
   "execution_count": 24,
   "id": "9c440587-ff82-457e-bb56-c7c3975094bf",
   "metadata": {},
   "outputs": [
    {
     "name": "stdout",
     "output_type": "stream",
     "text": [
      "[[1 2]\n",
      " [3 4]\n",
      " [5 6]\n",
      " [7 8]] \n",
      "\n",
      "[[18 89 91]\n",
      " [43 68  5]\n",
      " [13 49 11]\n",
      " [15 34 93]] \n",
      "\n",
      "[[18 89 91 43 68  5]\n",
      " [13 49 11 15 34 93]] \n",
      "\n",
      "[[18 89 91 43]\n",
      " [68  5 13 49]\n",
      " [11 15 34 93]] \n",
      "\n"
     ]
    }
   ],
   "source": [
    "#reshape()  it changes the shape of an array without changing its data. \n",
    "#It returns a new array with the specified shape, it doesn't change the original array.\n",
    "#The total number of elements in the new array must be \n",
    "#the same as the total number of elements in the original array.\n",
    "#syntax array.reshape(size) ,np.reshape(array,size)\n",
    "my_arr=np.array([[1,2,3,4],[5,6,7,8]])\n",
    "x=my_arr.reshape((4,2))\n",
    "print(x,'\\n')\n",
    "#Using -1 for an Unknown Dimension\n",
    "#A powerful feature of reshape() is using -1 as one of the dimensions.NumPy will \n",
    "#automatically calculate the correct size for that dimension \n",
    "#based on the total number of elements.\n",
    "my_arr=np.random.randint(0,100,(4,3))\n",
    "print(my_arr,'\\n')\n",
    "x=my_arr.reshape(2,-1)\n",
    "print(x,'\\n')\n",
    "x=my_arr.reshape(-1,4)\n",
    "print(x,'\\n')\n",
    "\n",
    "\n"
   ]
  },
  {
   "cell_type": "code",
   "execution_count": 25,
   "id": "ab25a659-e191-45e2-8223-77c26e5fed4e",
   "metadata": {},
   "outputs": [
    {
     "name": "stdout",
     "output_type": "stream",
     "text": [
      "(3, 4)\n",
      "12\n",
      "2\n",
      "int32\n",
      "float64\n",
      "[[18. 89. 91. 43.]\n",
      " [68.  5. 13. 49.]\n",
      " [11. 15. 34. 93.]]\n"
     ]
    }
   ],
   "source": [
    "#to get the shape of the array use shape() function\n",
    "print(np.shape(x))\n",
    "#to get the size of array(number of elements)\n",
    "#size()\n",
    "print(np.size(x))\n",
    "#to get the dimensions of an array ndim() function\n",
    "print(np.ndim(x))\n",
    "#to get the datatype stored in the array dtype attribute\n",
    "print(x.dtype)\n",
    "#to convert a datatype of an array use astype(new_type), it will return  new array \n",
    "#with the new datatype but it will not convert the original array\n",
    "y=x.astype(np.float64)\n",
    "print(y.dtype)\n",
    "print(y)"
   ]
  },
  {
   "cell_type": "markdown",
   "id": "8bfc2c27-67b5-45db-b565-19f0cf836c5e",
   "metadata": {},
   "source": [
    "## 4)Numpy Indexing and Slicing:"
   ]
  },
  {
   "cell_type": "markdown",
   "id": "4e986b1f-62d3-4ba9-b509-4e42e3213fc3",
   "metadata": {},
   "source": [
    "**Indexing for Numpy arrays**:\n",
    "1. 1d indexing(Vectors)\n",
    "2. 2d indexing(Matrices)\n",
    "3. nd indexing\n",
    "4. fancy indexing"
   ]
  },
  {
   "cell_type": "code",
   "execution_count": 28,
   "id": "6c28cf2e-7bf4-4d45-b559-c596ede8b952",
   "metadata": {},
   "outputs": [
    {
     "name": "stdout",
     "output_type": "stream",
     "text": [
      "[30 31 32 33 34 35 36 37 38 39]\n",
      "35\n",
      "[30 41 32 33 34 35 36 37 38 39]\n",
      "[30 41 32 33 34 35 36 37 38 39]\n",
      "[39 38 37 36 35 34 33 32 41 30]\n",
      "[41 32 33 34 35 36 37 38]\n",
      "[30  1  2 33 34 35 36 37 38 39]\n",
      "[30  1  2 90 90 90 36 37 38 39]\n",
      "[30  1  2 43 43 43 36 37 38 39]\n",
      "[5 5 5 5 5 5 5 5 5 5]\n",
      "[5 5 5 5 5 5 5 5 5 5]\n",
      "[30 32 34 36 38 40 42 44 46 48]\n",
      "[48 46 44 42 40 38 36 34 32 30]\n",
      "[30 32 34 36 38 40 42 44 46 48]\n",
      "[48 46 44 42 40 38 36 34 32 30]\n",
      "[1 1 1 1 1 1 1 1 1 1]\n"
     ]
    }
   ],
   "source": [
    "#for 1d vectors accessing an element by its index\n",
    "arr=np.arange(30,40)\n",
    "print(arr)\n",
    "print(arr[5])\n",
    "arr[1]=41\n",
    "print(arr)\n",
    "print(arr[:])\n",
    "print(arr[::-1])\n",
    "print(arr[1:9])\n",
    "arr[1:3]=(1,2) #give a list or tuple of the esxact number of elements\n",
    "print(arr)\n",
    "#arr[1:6]=[3,4] error you must enter the exact number of elements\n",
    "arr[3:6]=90 #it will replace all elements in the range with the given value\n",
    "print(arr)\n",
    "arr[3:6]=43.5\n",
    "print(arr) #it will cast the float value to int to fit inside the array\n",
    "\n",
    "arr[:]=5\n",
    "print(arr)\n",
    "\n",
    "#copy() and sort()\n",
    "x=arr.copy()\n",
    "print(x)\n",
    "arr=np.arange(30,50,2)\n",
    "print(arr)\n",
    "x=arr[::-1]\n",
    "print(x)\n",
    "x.sort()\n",
    "print(x)\n",
    "x=arr.view() #view() makes x and arr hold the same data a change in x is a change in arr\n",
    "print(x)\n",
    "x[:]=1\n",
    "print(arr)"
   ]
  },
  {
   "cell_type": "code",
   "execution_count": 29,
   "id": "1f56b2ec-1739-4e93-830e-ce75ba270e5e",
   "metadata": {},
   "outputs": [],
   "source": [
    "#for 2d arrays matrices:"
   ]
  },
  {
   "cell_type": "code",
   "execution_count": 30,
   "id": "1e505def-48b5-4c04-a8b4-92cbbc6d103a",
   "metadata": {},
   "outputs": [
    {
     "name": "stdout",
     "output_type": "stream",
     "text": [
      "[[ 0.   11.25 22.5 ]\n",
      " [33.75 45.   56.25]\n",
      " [67.5  78.75 90.  ]]\n"
     ]
    }
   ],
   "source": [
    "arr=np.reshape(np.linspace(0,90,9),(3,3))\n",
    "print(arr)"
   ]
  },
  {
   "cell_type": "code",
   "execution_count": 31,
   "id": "dff5dbea-a5e6-47d9-8b81-2ff420c830fc",
   "metadata": {},
   "outputs": [
    {
     "name": "stdout",
     "output_type": "stream",
     "text": [
      "78.75\n",
      "78.75\n",
      "[[ 0.   11.25 22.5 ]\n",
      " [33.75  0.   56.25]\n",
      " [67.5  78.75  7.  ]]\n"
     ]
    }
   ],
   "source": [
    "#indexing\n",
    "#syntax: arr_name[row_index][column_index] or arr_name[row_index,column_index]\n",
    "print(arr[2][1])\n",
    "print(arr[2,1])\n",
    "arr[1][1]=0\n",
    "arr[2,2]=7\n",
    "print(arr)\n",
    "\n"
   ]
  },
  {
   "cell_type": "code",
   "execution_count": 32,
   "id": "b8d0d919-0490-48b1-be9a-e8f789596f52",
   "metadata": {},
   "outputs": [
    {
     "name": "stdout",
     "output_type": "stream",
     "text": [
      "[[1 2 3]\n",
      " [4 5 6]\n",
      " [7 8 9]] \n",
      "\n",
      "[2 5 8] \n",
      "\n",
      "[[1 2 3]\n",
      " [4 5 6]\n",
      " [7 8 9]] \n",
      "\n",
      "[[5 6]\n",
      " [8 9]] \n",
      "\n",
      "[3 6 9]\n"
     ]
    }
   ],
   "source": [
    "#slicing \n",
    "#syntax arr_name[ row:row,col:col] \n",
    "#if you want to get 1 row or 1 col  arr_name[row_num,col:col] will only get the specific\n",
    "#row ,arr_name[row:row,col_num] will only get from the specific col\n",
    "arr=np.reshape(np.arange(1,9+1),(3,3))\n",
    "print(arr,'\\n')\n",
    "print(arr[:,1],'\\n')# get all rows,and column 1 only\n",
    "print(arr[:,:],'\\n')#will get the whole array\n",
    "print(arr[1:,1:],'\\n') #will get the bottom right corner\n",
    "print(arr[:,2]) #will get the last column"
   ]
  },
  {
   "cell_type": "code",
   "execution_count": 33,
   "id": "4bd9ae30-6ff8-45e2-b128-22563533ee82",
   "metadata": {},
   "outputs": [
    {
     "name": "stdout",
     "output_type": "stream",
     "text": [
      "[[1 2 3]\n",
      " [1 7 8]\n",
      " [7 8 9]]\n",
      "[[ 1  2  3]\n",
      " [ 1  7  8]\n",
      " [10 10 10]] \n",
      "\n",
      "[[1 2 3]\n",
      " [4 5 6]\n",
      " [7 8 9]] \n",
      "\n",
      "[[7 8 9]\n",
      " [4 5 6]\n",
      " [1 2 3]] \n",
      "\n",
      "[[3 2 1]\n",
      " [6 5 4]\n",
      " [9 8 7]] \n",
      "\n",
      "[[9 8 7]\n",
      " [6 5 4]\n",
      " [3 2 1]] \n",
      "\n"
     ]
    }
   ],
   "source": [
    "#assigning values with slicing ,must assign exact number of values if will be passed\n",
    "#in iterable\n",
    "arr[1,:]=[1,7,8]\n",
    "print(arr)\n",
    "#arr[1,:]=[1,2] this will give error\n",
    "arr[2,:]=10 #this will make all values in row 2 = 10\n",
    "print(arr,'\\n')\n",
    "arr=np.reshape(np.arange(1,9+1),(3,3))\n",
    "print(arr,'\\n')\n",
    "print(arr[::-1,:],'\\n')#this will print the rows in reverse order\n",
    "print(arr[:,::-1],'\\n') #this will print the column in reverse order\n",
    "print(arr[::-1,::-1],'\\n')#this will print the matrix with reversing columns and rows"
   ]
  },
  {
   "cell_type": "code",
   "execution_count": 34,
   "id": "565d1732-885a-4943-9cbf-2420058b90b0",
   "metadata": {},
   "outputs": [
    {
     "name": "stdout",
     "output_type": "stream",
     "text": [
      "[[48 47 34 87 93 64 84 17 15 91]\n",
      " [ 8 11 20 96  1 63 25 49 78 74]\n",
      " [14 97 95 44 70 59 98 68 24 63]\n",
      " [68 72 24 12 11 84 41 44 54 37]\n",
      " [29 18 53 74 97  4 96 76  7  8]\n",
      " [26 99 74 99 17 19  3 92 61 25]\n",
      " [99 57 40 97 25 36 68 73  2 98]\n",
      " [67 43 20 15 74 49 31 51 44 16]\n",
      " [51 20 72 66 85 33 99  3 29 59]\n",
      " [87 80 14 95 94 20 62 69 60  4]]\n"
     ]
    }
   ],
   "source": [
    "#fancy indexing\n",
    "#fancy indexing allows you to select entire rows or columns out of order\n",
    "arr=np.random.randint(1,100,(10,10))\n",
    "print(arr)"
   ]
  },
  {
   "cell_type": "code",
   "execution_count": 35,
   "id": "90d4229c-62b4-4cef-8252-3b59f9fc329c",
   "metadata": {},
   "outputs": [
    {
     "name": "stdout",
     "output_type": "stream",
     "text": [
      "[[14 97 95 44 70 59 98 68 24 63]\n",
      " [26 99 74 99 17 19  3 92 61 25]\n",
      " [87 80 14 95 94 20 62 69 60  4]] \n",
      "\n",
      "[[67 43 20 15 74 49 31 51 44 16]\n",
      " [99 57 40 97 25 36 68 73  2 98]\n",
      " [48 47 34 87 93 64 84 17 15 91]] \n",
      "\n",
      "[44 99 95] \n",
      "\n",
      "[[44 70 59]\n",
      " [99 17 19]\n",
      " [95 94 20]] \n",
      "\n"
     ]
    }
   ],
   "source": [
    "#syntax: arr_name[[wanted rows index in a list]]\n",
    "print(arr[[2,5,9]],'\\n')\n",
    "#its allowed in any order\n",
    "print(arr[[7,6,0]],'\\n')\n",
    "#you can get certain columns out of these rows \n",
    "print(arr[[2,5,9],[3]],'\\n')\n",
    "print(arr[[2,5,9],3:6],'\\n')\n",
    "\n"
   ]
  },
  {
   "cell_type": "markdown",
   "id": "ca274abb-415f-4e4a-8f1a-5d1161a5b07f",
   "metadata": {},
   "source": [
    "## Adding and removing elements:"
   ]
  },
  {
   "cell_type": "code",
   "execution_count": 37,
   "id": "a89dc227-775d-42b2-9f05-b19b589bfd3b",
   "metadata": {},
   "outputs": [],
   "source": [
    "arr=np.array([1,2,3])"
   ]
  },
  {
   "cell_type": "code",
   "execution_count": 38,
   "id": "6a5ad744-9b22-46b6-bfa3-cd68ee8cc17e",
   "metadata": {},
   "outputs": [
    {
     "name": "stdout",
     "output_type": "stream",
     "text": [
      "[ 1  2  3  4  5  6  7  8 10]\n",
      "[ 1  2  3  4 32  5  6  7  8 10]\n",
      "[ 1  2  3  4 55 32  5 77  6  7  8 10]\n",
      "[ 1  2  3  4 32  5 77  6  7  8 10]\n",
      "[ 1 32  5 77  6  7  8 10]\n"
     ]
    }
   ],
   "source": [
    "#np.append(arr,element) The np.append() function is used to add values to \n",
    "#the end of an array. It creates and returns a new array with the appended values.\n",
    "#The np.insert(arr,indeces,values) function inserts values into an array at a specified index \n",
    "#or indices. It also returns a new array.\n",
    "#np.delete(arr,indeces), which removes elements from an array at a specified index or indices.\n",
    "#It also returns a new array.\n",
    "arr=np.array([1,2,3,4,5,6,7,8])\n",
    "x=np.append(arr,10)\n",
    "print(x)\n",
    "\n",
    "arr=x\n",
    "x=np.insert(arr,4,32)\n",
    "print(x)\n",
    "arr=x\n",
    "\n",
    "x=np.insert(arr,[4,6],[55,77]) #inseting multiple elements at different indeces\n",
    "print(x)\n",
    "arr=x\n",
    "\n",
    "x=np.delete(arr,4)\n",
    "print(x)\n",
    "arr=x\n",
    "x=np.delete(arr,[1,2,3]) #removing multiple elements fro different indeces\n",
    "print(x)\n",
    "arr=x"
   ]
  },
  {
   "cell_type": "markdown",
   "id": "faa05535-217c-4ce5-b3de-2948a5d89916",
   "metadata": {},
   "source": [
    "## Combining and splitting"
   ]
  },
  {
   "cell_type": "code",
   "execution_count": 74,
   "id": "b9307db2-137b-49f3-8609-6873879b7199",
   "metadata": {},
   "outputs": [
    {
     "name": "stdout",
     "output_type": "stream",
     "text": [
      "[1 2 3 4 5 6]\n",
      "[[1 2 3]\n",
      " [4 5 6]]\n",
      "[1 2 3 4 5 6]\n"
     ]
    }
   ],
   "source": [
    "a=np.array([1,2,3])\n",
    "b=np.array([4,5,6])\n",
    "#to combine two arrays  we use np.concatenate((arr1,arr2)), it returns a new array, pass them\n",
    "#in a tuple or list\n",
    "c=np.concatenate([a,b])\n",
    "print(c)\n",
    "#to combine two arrays vertically we use np.vstack((arr1,arr2)) will make rows\n",
    "c=np.vstack((a,b))\n",
    "print(c)\n",
    "#to combine two arrays horizontally we use np.hstack((arr1,arr2))\n",
    "c=np.hstack((a,b))\n",
    "print(c)\n",
    "\n"
   ]
  },
  {
   "cell_type": "code",
   "execution_count": 72,
   "id": "126abc7b-7ba6-4168-a5cb-dfa077f1b1d6",
   "metadata": {},
   "outputs": [
    {
     "name": "stdout",
     "output_type": "stream",
     "text": [
      "[1 2]\n",
      "[3 4]\n",
      "[5 6]\n",
      "[[1 2 3]] [[4 5 6]] [[7 8 9]] [[10 11 12]]\n"
     ]
    }
   ],
   "source": [
    "#splitting\n",
    "#to split an array we use np.split(arr,number of splits)\n",
    "x,f,g=np.split(c,3)\n",
    "print(x)\n",
    "print(f)\n",
    "print(g)\n",
    "v=np.reshape(np.arange(1,12+1),(4,3))\n",
    "a,b,e,d=np.split(v,4)\n",
    "print(a,b,e,d)"
   ]
  },
  {
   "cell_type": "markdown",
   "id": "5838748c-3cdc-472c-9944-704db69d8536",
   "metadata": {},
   "source": [
    "## Numpy Operations"
   ]
  },
  {
   "cell_type": "markdown",
   "id": "27983e27-83d2-4fcf-98d4-17e8d3b99fdd",
   "metadata": {},
   "source": [
    "**Numpy Operations:**\n",
    "1. Arithmetic and Logic operations.\n",
    "2. Universal Array Functions."
   ]
  },
  {
   "cell_type": "code",
   "execution_count": 88,
   "id": "2878ab19-a72f-4d3e-83cb-2f0d702306d0",
   "metadata": {},
   "outputs": [
    {
     "name": "stdout",
     "output_type": "stream",
     "text": [
      "[0 1 2 3 4 5 6 7 8 9]\n",
      "[ 3  4  5  6  7  8  9 10 11 12]\n",
      "[-1  0  1  2  3  4  5  6  7  8]\n",
      "[ 0  2  4  6  8 10 12 14 16 18]\n",
      "[nan inf inf inf inf inf inf inf inf inf]\n",
      "[0.  0.5 1.  1.5 2.  2.5 3.  3.5 4.  4.5]\n",
      "[ 0  2  4  6  8 10 12 14 16 18]\n",
      "[0 0 0 0 0 0 0 0 0 0]\n",
      "[       inf 1.         0.5        0.33333333 0.25       0.2\n",
      " 0.16666667 0.14285714 0.125      0.11111111]\n",
      "[    1     3     9    27    81   243   729  2187  6561 19683]\n",
      "[  0   1   8  27  64 125 216 343 512 729]\n"
     ]
    },
    {
     "name": "stderr",
     "output_type": "stream",
     "text": [
      "C:\\Users\\dell\\AppData\\Local\\Temp\\ipykernel_5032\\2222561942.py:7: RuntimeWarning: divide by zero encountered in divide\n",
      "  print(arr/0)# note 0/0 gives nan, any number/0 gives inf\n",
      "C:\\Users\\dell\\AppData\\Local\\Temp\\ipykernel_5032\\2222561942.py:7: RuntimeWarning: invalid value encountered in divide\n",
      "  print(arr/0)# note 0/0 gives nan, any number/0 gives inf\n",
      "C:\\Users\\dell\\AppData\\Local\\Temp\\ipykernel_5032\\2222561942.py:11: RuntimeWarning: divide by zero encountered in divide\n",
      "  print(1/arr)\n"
     ]
    }
   ],
   "source": [
    "#Arithmetic operations: it works on ndarray\n",
    "arr=np.arange(0,10)\n",
    "print(arr)\n",
    "print(arr+3)\n",
    "print(arr-1)\n",
    "print(arr*2)\n",
    "print(arr/0)# note 0/0 gives nan, any number/0 gives inf \n",
    "print(arr/2)\n",
    "print(arr+arr)\n",
    "print(arr-arr)\n",
    "print(1/arr)\n",
    "print(3**arr)\n",
    "print(arr**3)"
   ]
  },
  {
   "cell_type": "code",
   "execution_count": 92,
   "id": "90cc0aef-1a5c-4e8f-82cf-916f07fbff7e",
   "metadata": {},
   "outputs": [
    {
     "name": "stdout",
     "output_type": "stream",
     "text": [
      "[False False False False  True  True  True  True  True  True]\n",
      "[False False False  True False False False False False False]\n",
      "[ True  True  True  True False False False False False False]\n"
     ]
    }
   ],
   "source": [
    "#logic operations:works on ndarray\n",
    "#logic operations occurs element wise and return an array of logic results for each element\n",
    "print(arr>3)\n",
    "print(arr==3)\n",
    "print(arr<=3)"
   ]
  },
  {
   "cell_type": "code",
   "execution_count": 106,
   "id": "df6cd7cd-596e-4d7f-8558-f3d20b78af7a",
   "metadata": {},
   "outputs": [
    {
     "name": "stdout",
     "output_type": "stream",
     "text": [
      "[[49 66 30]\n",
      " [41 95 43]\n",
      " [40 97 71]\n",
      " [21 43 76]]\n",
      "97\n",
      "21\n",
      "56.0\n",
      "672\n",
      "[49 97 76]\n",
      "[66 95 97 76]\n",
      "[37.75 75.25 55.  ]\n",
      "[48.33333333 59.66666667 69.33333333 46.66666667]\n",
      "[151 301 220]\n",
      "[145 179 208 140]\n"
     ]
    }
   ],
   "source": [
    "#universal array functions:\n",
    "#np.max(arr,axis),np.min(arr,axis),np.average(arr),np.sum(arr)\n",
    "#np.max(arr,axis=0) gets the max value in each column\n",
    "#np.max(arr,axis=1) gets the max value in each row\n",
    "#for min the same axis=0 for cols, axis =1 for rows\n",
    "#for avergae and sum the same\n",
    "arr=np.reshape(np.random.randint(1,100,12),(4,3))\n",
    "print(arr)\n",
    "max_=np.max(arr)\n",
    "print(max_)\n",
    "min_=np.min(arr)\n",
    "print(min_)\n",
    "avg=np.average(arr)\n",
    "print(avg)\n",
    "sum_=np.sum(arr)\n",
    "print(sum_)\n",
    "max_cols=np.max(arr,axis=0)\n",
    "print(max_cols)\n",
    "max_rows=np.max(arr,axis=1)\n",
    "print(max_rows)\n",
    "avg_cols=np.average(arr,axis=0)\n",
    "print(avg_cols)\n",
    "avg_rows=np.average(arr,axis=1)\n",
    "print(avg_rows)\n",
    "sum_cols=np.sum(arr,axis=0)\n",
    "print(sum_cols)\n",
    "sum_rows=np.sum(arr,axis=1)\n",
    "print(sum_rows)"
   ]
  },
  {
   "cell_type": "code",
   "execution_count": 118,
   "id": "c5939294-1c9a-4d80-8eee-2749d298332b",
   "metadata": {},
   "outputs": [
    {
     "name": "stdout",
     "output_type": "stream",
     "text": [
      "[ 1 11 21 31 41 51 61 71 81 91] \n",
      "\n",
      "[1.         3.31662479 4.58257569 5.56776436 6.40312424 7.14142843\n",
      " 7.81024968 8.42614977 9.         9.53939201] \n",
      "\n",
      "[2.71828183e+00 5.98741417e+04 1.31881573e+09 2.90488497e+13\n",
      " 6.39843494e+17 1.40934908e+22 3.10429794e+26 6.83767123e+30\n",
      " 1.50609731e+35 3.31740010e+39] \n",
      "\n",
      "[0.         2.39789527 3.04452244 3.4339872  3.71357207 3.93182563\n",
      " 4.11087386 4.26267988 4.39444915 4.51085951] \n",
      "\n",
      "[ 0.0000000e+00  1.0000000e+00  1.2246468e-16 -1.0000000e+00\n",
      " -2.4492936e-16]\n"
     ]
    }
   ],
   "source": [
    "#sqrt(),exp(),log(),sin\n",
    "#power()\n",
    "arr=np.arange(1,100,10)\n",
    "print(arr,'\\n')\n",
    "\n",
    "#np.sqrt(arr):calculates the square root of each element in an array.\n",
    "sqrt=np.sqrt(arr)\n",
    "print(sqrt,'\\n')\n",
    "#np.exp()computes the exponential of each element in an array, \n",
    "#which means it raises the mathematical constant e (approximately 2.71828) \n",
    "#to the power of each element. e^(each element in array)\n",
    "exp=np.exp(arr)\n",
    "print(exp,'\\n')\n",
    "\n",
    "#np.log():calculates the natural logarithm of each element in an array. \n",
    "#This is the logarithm to the base e. For other bases, \n",
    "#you can use np.log2() for base 2 or np.log10() for base 10.\n",
    "loge=np.log(arr)\n",
    "print(loge,'\\n')\n",
    "#np.sin():computes the sine of each element in an array. \n",
    "#The input values are treated as angles in radians.\n",
    "#note convert angles from degree to radians before using sin or cos or tan\n",
    "angles=np.array([0,0.5*np.pi,np.pi,1.5*np.pi,2*np.pi])\n",
    "sins=np.sin(angles)\n",
    "print(sins)\n",
    "#np.power():raises each element in one array to the power of the corresponding \n",
    "#element in a second array.\n",
    "\n"
   ]
  },
  {
   "cell_type": "markdown",
   "id": "b3538ffd-04b5-4f50-8eab-aca2294f7c95",
   "metadata": {},
   "source": [
    "## Dot product"
   ]
  },
  {
   "cell_type": "code",
   "execution_count": 127,
   "id": "8358d225-237a-4062-a1aa-5a3cb460cf87",
   "metadata": {},
   "outputs": [
    {
     "name": "stdout",
     "output_type": "stream",
     "text": [
      "[24 30 36]\n"
     ]
    }
   ],
   "source": [
    "mat=np.arange(9).reshape(3,3)\n",
    "vec1=np.array([1,2,3])\n",
    "#np.dot(arr1,arr2) akes dot product between matrices\n",
    "print(np.dot(vec1,mat))"
   ]
  },
  {
   "cell_type": "markdown",
   "id": "686e1aaf-600e-4a3c-9595-d5878ecb2e6d",
   "metadata": {},
   "source": [
    "## Numpy time efficiency:"
   ]
  },
  {
   "cell_type": "code",
   "execution_count": 137,
   "id": "6cacc837-6945-4d68-8478-25333cd696bd",
   "metadata": {},
   "outputs": [
    {
     "name": "stdout",
     "output_type": "stream",
     "text": [
      "Sum using loop:\n",
      "4999999950000000\n",
      "Time:\n",
      "21.632014989852905\n",
      "----------------------------------------\n",
      "Sum using vectorized implementation:\n",
      "4999999950000000\n",
      "Time:\n",
      "0.35191893577575684\n"
     ]
    }
   ],
   "source": [
    "import time\n",
    "\n",
    "start_time = time.time()\n",
    "my_arr=np.arange(100000000)\n",
    "b=0\n",
    "for i in my_arr:\n",
    "    b=b+i\n",
    "print(f'Sum using loop:\\n{b}\\nTime:\\n{time.time()-start_time}')\n",
    "print('-'*40)\n",
    "\n",
    "start_time = time.time()\n",
    "\n",
    "print(f'Sum using vectorized implementation:\\n{my_arr.sum()}\\nTime:\\n{time.time()-start_time}')"
   ]
  },
  {
   "cell_type": "code",
   "execution_count": null,
   "id": "b03af9f2-5775-4084-a879-578aefac7221",
   "metadata": {},
   "outputs": [],
   "source": []
  }
 ],
 "metadata": {
  "kernelspec": {
   "display_name": "Python 3 (ipykernel)",
   "language": "python",
   "name": "python3"
  },
  "language_info": {
   "codemirror_mode": {
    "name": "ipython",
    "version": 3
   },
   "file_extension": ".py",
   "mimetype": "text/x-python",
   "name": "python",
   "nbconvert_exporter": "python",
   "pygments_lexer": "ipython3",
   "version": "3.12.7"
  }
 },
 "nbformat": 4,
 "nbformat_minor": 5
}
