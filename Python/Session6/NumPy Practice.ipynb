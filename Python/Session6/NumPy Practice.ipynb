{
 "cells": [
  {
   "cell_type": "markdown",
   "id": "fdf13446",
   "metadata": {},
   "source": [
    "## 🟢 Section 1: Creating Arrays\n",
    "\n",
    "## Q: Create an array from 1 to 10. Extract only even numbers."
   ]
  },
  {
   "cell_type": "markdown",
   "id": "5b9b1447",
   "metadata": {},
   "source": [
    "### Answer "
   ]
  },
  {
   "cell_type": "code",
   "execution_count": 47,
   "id": "122a73f1",
   "metadata": {},
   "outputs": [
    {
     "name": "stdout",
     "output_type": "stream",
     "text": [
      "[ 2  4  6  8 10]\n"
     ]
    }
   ],
   "source": [
    "import numpy as np\n",
    "evens=np.array([x for x in range(1,11) if x%2==0 ])\n",
    "print(evens)\n"
   ]
  },
  {
   "cell_type": "markdown",
   "id": "f13c4dbb",
   "metadata": {},
   "source": [
    "# Great Job!"
   ]
  },
  {
   "cell_type": "markdown",
   "id": "bd940ff5",
   "metadata": {},
   "source": [
    "## 🟢 Section 2.1: arange\n",
    "\n",
    "## Q: Use arange to create an array from 0 to 20 with step 5.\n"
   ]
  },
  {
   "cell_type": "markdown",
   "id": "2a8392f7",
   "metadata": {},
   "source": [
    "### Answer "
   ]
  },
  {
   "cell_type": "code",
   "execution_count": 49,
   "id": "35b51923",
   "metadata": {},
   "outputs": [
    {
     "name": "stdout",
     "output_type": "stream",
     "text": [
      "[ 0  5 10 15 20]\n"
     ]
    }
   ],
   "source": [
    "arr=np.arange(0,21,5)\n",
    "print(arr)"
   ]
  },
  {
   "cell_type": "markdown",
   "id": "30897240",
   "metadata": {},
   "source": [
    "# Great Job!"
   ]
  },
  {
   "cell_type": "markdown",
   "id": "bd9f439b",
   "metadata": {},
   "source": [
    "## 🟢 Section 2.2: zeros, ones, eye\n",
    "\n",
    "## Q: Create a 3×3 matrix of ones."
   ]
  },
  {
   "cell_type": "markdown",
   "id": "34f4e013",
   "metadata": {},
   "source": [
    "### Answer "
   ]
  },
  {
   "cell_type": "code",
   "execution_count": 53,
   "id": "5979c9bc",
   "metadata": {},
   "outputs": [
    {
     "name": "stdout",
     "output_type": "stream",
     "text": [
      "[[1. 1. 1.]\n",
      " [1. 1. 1.]\n",
      " [1. 1. 1.]]\n"
     ]
    }
   ],
   "source": [
    "arr=np.ones((3,3))\n",
    "print(arr)"
   ]
  },
  {
   "cell_type": "markdown",
   "id": "0edd122b",
   "metadata": {},
   "source": [
    "# Great Job!"
   ]
  },
  {
   "cell_type": "markdown",
   "id": "f3aff8b5",
   "metadata": {},
   "source": [
    "## 🟢 Section 2.3: linspace\n",
    "\n",
    "## Q: Use linspace to generate 5 numbers between 0 and 1."
   ]
  },
  {
   "cell_type": "markdown",
   "id": "b1357e43",
   "metadata": {},
   "source": [
    "### Answer "
   ]
  },
  {
   "cell_type": "code",
   "execution_count": 55,
   "id": "97757406",
   "metadata": {},
   "outputs": [
    {
     "name": "stdout",
     "output_type": "stream",
     "text": [
      "[0.   0.25 0.5  0.75 1.  ]\n"
     ]
    }
   ],
   "source": [
    "arr=np.linspace(0,1,5)\n",
    "print(arr)"
   ]
  },
  {
   "cell_type": "markdown",
   "id": "c517486d",
   "metadata": {},
   "source": [
    "# Great Job!"
   ]
  },
  {
   "cell_type": "markdown",
   "id": "71126798",
   "metadata": {},
   "source": [
    "## 🟢 Section 2.4: rand, randn, randint\n",
    "\n",
    "## Q: Create a 1D array with 5 random integers between 1 and 20."
   ]
  },
  {
   "cell_type": "markdown",
   "id": "0c8b931b",
   "metadata": {},
   "source": [
    "### Answer "
   ]
  },
  {
   "cell_type": "code",
   "execution_count": 57,
   "id": "0a8f9a3c",
   "metadata": {},
   "outputs": [
    {
     "name": "stdout",
     "output_type": "stream",
     "text": [
      "[ 5 15 14 17 10]\n"
     ]
    }
   ],
   "source": [
    "arr=np.random.randint(1,20,5)\n",
    "print(arr)"
   ]
  },
  {
   "cell_type": "markdown",
   "id": "94720242",
   "metadata": {},
   "source": [
    "# Great Job!"
   ]
  },
  {
   "cell_type": "markdown",
   "id": "4a9b7d4d",
   "metadata": {},
   "source": [
    "## 🟢 Section 2.5: min, max, argmin, argmax\n",
    "\n",
    "## Q: Create an array of 20 random integers between 1 and 500. Find the maximum number.\n"
   ]
  },
  {
   "cell_type": "markdown",
   "id": "dd1ce899",
   "metadata": {},
   "source": [
    "### Answer "
   ]
  },
  {
   "cell_type": "code",
   "execution_count": 61,
   "id": "c1628cb4",
   "metadata": {},
   "outputs": [
    {
     "name": "stdout",
     "output_type": "stream",
     "text": [
      "[376 330 204 317 288 210 132 260 237 385 264 158  95   7 315 445 175  60\n",
      " 273 164]\n",
      "445\n"
     ]
    }
   ],
   "source": [
    "arr=np.random.randint(1,500,20)\n",
    "print(arr)\n",
    "max_=np.max(arr)\n",
    "print(max_)"
   ]
  },
  {
   "cell_type": "markdown",
   "id": "e878f684",
   "metadata": {},
   "source": [
    "# Great Job!"
   ]
  },
  {
   "cell_type": "markdown",
   "id": "1ee2135e",
   "metadata": {},
   "source": [
    "## 🟢 Section 3: Reshape\n",
    "\n",
    "## Q: Create an array from 1 to 9, then reshape it into 3×3.\n"
   ]
  },
  {
   "cell_type": "markdown",
   "id": "44fb9146",
   "metadata": {},
   "source": [
    "### Answer "
   ]
  },
  {
   "cell_type": "code",
   "execution_count": 63,
   "id": "8a30a566",
   "metadata": {},
   "outputs": [
    {
     "name": "stdout",
     "output_type": "stream",
     "text": [
      "[[1 2 3]\n",
      " [4 5 6]\n",
      " [7 8 9]]\n"
     ]
    }
   ],
   "source": [
    "arr=np.reshape(np.arange(1,9+1),(3,3))\n",
    "print(arr)"
   ]
  },
  {
   "cell_type": "markdown",
   "id": "4436df13",
   "metadata": {},
   "source": [
    "# Great Job!"
   ]
  },
  {
   "cell_type": "markdown",
   "id": "44294997",
   "metadata": {},
   "source": [
    "## 🟢 Section 4: Indexing & Selection\n",
    "\n",
    "## Q: Create a 3×3 array from 1 to 9. Extract the last row.\n",
    "\n",
    "## Extract the last row.\n",
    "\n",
    "## Extract the first column."
   ]
  },
  {
   "cell_type": "markdown",
   "id": "ad4fe286",
   "metadata": {},
   "source": [
    "### Answer "
   ]
  },
  {
   "cell_type": "code",
   "execution_count": 65,
   "id": "0dc7fcd3",
   "metadata": {},
   "outputs": [
    {
     "name": "stdout",
     "output_type": "stream",
     "text": [
      "[[1 2 3]\n",
      " [4 5 6]\n",
      " [7 8 9]]\n",
      "[1 4 7]\n",
      "[7 8 9]\n"
     ]
    }
   ],
   "source": [
    "arr=np.reshape(np.arange(1,9+1),(3,3))\n",
    "print(arr)\n",
    "first_col=arr[:,0]\n",
    "last_row=arr[2,:]\n",
    "print(first_col)\n",
    "print(last_row)"
   ]
  },
  {
   "cell_type": "markdown",
   "id": "321728fc",
   "metadata": {},
   "source": [
    "# Great Job!"
   ]
  },
  {
   "cell_type": "markdown",
   "id": "c2925792",
   "metadata": {},
   "source": [
    "## 🟢 Section 5: Fancy Indexing\n",
    "\n",
    "## From [5,10,15,20,25], extract elements at indices [0,2,4]."
   ]
  },
  {
   "cell_type": "markdown",
   "id": "b5331760",
   "metadata": {},
   "source": [
    "### Answer "
   ]
  },
  {
   "cell_type": "code",
   "execution_count": 67,
   "id": "dbb336f6",
   "metadata": {},
   "outputs": [
    {
     "name": "stdout",
     "output_type": "stream",
     "text": [
      "[ 5 15 25]\n"
     ]
    }
   ],
   "source": [
    "arr=np.array([5,10,15,20,25])\n",
    "print(arr[[0,2,4]])"
   ]
  },
  {
   "cell_type": "markdown",
   "id": "a5179534",
   "metadata": {},
   "source": [
    "# Great Job!"
   ]
  },
  {
   "cell_type": "markdown",
   "id": "ddae6a1c",
   "metadata": {},
   "source": [
    "## 🟢 Section 6: Arithmetic\n",
    "\n",
    "## Q: Given two matrices:\n",
    "\n",
    "A = [[2,4,6],\n",
    "     [1,3,5]]\n",
    "\n",
    "B = [[10,20,30],\n",
    "     [40,50,60]]\n",
    "\n",
    "## Add them. Multiply element-wise. Compute the dot product."
   ]
  },
  {
   "cell_type": "markdown",
   "id": "8e90a812",
   "metadata": {},
   "source": [
    "### Answer "
   ]
  },
  {
   "cell_type": "code",
   "execution_count": 71,
   "id": "c2266a62",
   "metadata": {},
   "outputs": [
    {
     "name": "stdout",
     "output_type": "stream",
     "text": [
      "[[12 24 36]\n",
      " [41 53 65]]\n",
      "[[ 20  80 180]\n",
      " [ 40 150 300]]\n",
      "[[280 640]\n",
      " [220 490]]\n"
     ]
    }
   ],
   "source": [
    "a=np.array([[2,4,6], [1,3,5]])\n",
    "b=np.array( [[10,20,30], [40,50,60]])\n",
    "c=a+b\n",
    "print(c)\n",
    "c=a*b\n",
    "print(c)\n",
    "c=np.dot(a,b.T) #.T makes a transpose of the matrix\n",
    "print(c)"
   ]
  },
  {
   "cell_type": "markdown",
   "id": "8e612099",
   "metadata": {},
   "source": [
    "# Great Job!"
   ]
  },
  {
   "cell_type": "markdown",
   "id": "26284042",
   "metadata": {},
   "source": [
    "## 🟢 Section 7: Universal Functions\n",
    "\n",
    "## Q: Compute the square root of each element in [1,4,9,16]."
   ]
  },
  {
   "cell_type": "markdown",
   "id": "5291f81b",
   "metadata": {},
   "source": [
    "### Answer "
   ]
  },
  {
   "cell_type": "code",
   "execution_count": 75,
   "id": "9d54b3ed",
   "metadata": {},
   "outputs": [
    {
     "name": "stdout",
     "output_type": "stream",
     "text": [
      "[1. 2. 3. 4.]\n"
     ]
    }
   ],
   "source": [
    "arr=np.array([1,4,9,16])\n",
    "sqrt=np.sqrt(arr)\n",
    "print(sqrt)"
   ]
  },
  {
   "cell_type": "markdown",
   "id": "52decdd7",
   "metadata": {},
   "source": [
    "# Great Job!"
   ]
  }
 ],
 "metadata": {
  "kernelspec": {
   "display_name": "Python 3 (ipykernel)",
   "language": "python",
   "name": "python3"
  },
  "language_info": {
   "codemirror_mode": {
    "name": "ipython",
    "version": 3
   },
   "file_extension": ".py",
   "mimetype": "text/x-python",
   "name": "python",
   "nbconvert_exporter": "python",
   "pygments_lexer": "ipython3",
   "version": "3.12.7"
  }
 },
 "nbformat": 4,
 "nbformat_minor": 5
}
