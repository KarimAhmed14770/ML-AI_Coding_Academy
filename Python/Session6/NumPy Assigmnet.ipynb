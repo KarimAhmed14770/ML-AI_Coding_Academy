{
 "cells": [
  {
   "cell_type": "markdown",
   "metadata": {
    "id": "mDanQbzm4QjD"
   },
   "source": [
    "# Numpy Array Creation"
   ]
  },
  {
   "cell_type": "markdown",
   "metadata": {
    "id": "mNHJNapt0WhX"
   },
   "source": [
    "### Import Numpy"
   ]
  },
  {
   "cell_type": "code",
   "execution_count": 3,
   "metadata": {
    "id": "HgUmWgNS0ovZ"
   },
   "outputs": [],
   "source": [
    "import numpy as np"
   ]
  },
  {
   "cell_type": "markdown",
   "metadata": {
    "id": "tgI6xEn-2AQo"
   },
   "source": [
    "### Create an array of numpy dimensions 4x4 filled with zeros.\n",
    "__Expected result:__\n",
    "\n",
    "```\n",
    "array([[0., 0., 0., 0.],\n",
    "       [0., 0., 0., 0.],\n",
    "       [0., 0., 0., 0.],\n",
    "       [0., 0., 0., 0.]])\n",
    "```\n",
    "__Tip:__ Use the _np.zeros()_ function."
   ]
  },
  {
   "cell_type": "code",
   "execution_count": 5,
   "metadata": {
    "colab": {
     "base_uri": "https://localhost:8080/"
    },
    "id": "FwHWvOAWsbYn",
    "outputId": "551d39de-06a4-4555-9648-ef5d9e98fcf0"
   },
   "outputs": [
    {
     "name": "stdout",
     "output_type": "stream",
     "text": [
      "[[0. 0. 0. 0.]\n",
      " [0. 0. 0. 0.]\n",
      " [0. 0. 0. 0.]\n",
      " [0. 0. 0. 0.]]\n"
     ]
    }
   ],
   "source": [
    "arr=np.zeros((4,4))\n",
    "print(arr)"
   ]
  },
  {
   "cell_type": "code",
   "execution_count": null,
   "metadata": {
    "id": "1K5-RTI4cM37"
   },
   "outputs": [],
   "source": []
  },
  {
   "cell_type": "markdown",
   "metadata": {
    "id": "wxhpf-uq2B1I"
   },
   "source": [
    "###Create an array of numpy dimensions 10.x10. filled with number 255 .\n",
    "\n",
    "\n",
    "\n",
    "\n",
    "__Expected result:__\n",
    "```\n",
    "array([[255, 255, 255, 255, 255, 255, 255, 255, 255, 255],\n",
    "       [255, 255, 255, 255, 255, 255, 255, 255, 255, 255],\n",
    "       [255, 255, 255, 255, 255, 255, 255, 255, 255, 255],\n",
    "       [255, 255, 255, 255, 255, 255, 255, 255, 255, 255],\n",
    "       [255, 255, 255, 255, 255, 255, 255, 255, 255, 255],\n",
    "       [255, 255, 255, 255, 255, 255, 255, 255, 255, 255],\n",
    "       [255, 255, 255, 255, 255, 255, 255, 255, 255, 255],\n",
    "       [255, 255, 255, 255, 255, 255, 255, 255, 255, 255],\n",
    "       [255, 255, 255, 255, 255, 255, 255, 255, 255, 255],\n",
    "       [255, 255, 255, 255, 255, 255, 255, 255, 255, 255]])\n",
    "```\n",
    "\n",
    "__Tip:__ Use the _np.ones()_ or _np.full()_ functions."
   ]
  },
  {
   "cell_type": "code",
   "execution_count": 11,
   "metadata": {
    "colab": {
     "base_uri": "https://localhost:8080/"
    },
    "id": "YFc0KW6URsuc",
    "outputId": "0a203893-aa67-4abe-b968-aa7ea35339d5"
   },
   "outputs": [
    {
     "name": "stdout",
     "output_type": "stream",
     "text": [
      "[[255. 255. 255. 255. 255. 255. 255. 255. 255. 255.]\n",
      " [255. 255. 255. 255. 255. 255. 255. 255. 255. 255.]\n",
      " [255. 255. 255. 255. 255. 255. 255. 255. 255. 255.]\n",
      " [255. 255. 255. 255. 255. 255. 255. 255. 255. 255.]\n",
      " [255. 255. 255. 255. 255. 255. 255. 255. 255. 255.]\n",
      " [255. 255. 255. 255. 255. 255. 255. 255. 255. 255.]\n",
      " [255. 255. 255. 255. 255. 255. 255. 255. 255. 255.]\n",
      " [255. 255. 255. 255. 255. 255. 255. 255. 255. 255.]\n",
      " [255. 255. 255. 255. 255. 255. 255. 255. 255. 255.]\n",
      " [255. 255. 255. 255. 255. 255. 255. 255. 255. 255.]]\n"
     ]
    }
   ],
   "source": [
    "# Solution 1\n",
    "arr=np.ones((10,10))*255\n",
    "print(arr)"
   ]
  },
  {
   "cell_type": "code",
   "execution_count": 9,
   "metadata": {
    "colab": {
     "base_uri": "https://localhost:8080/"
    },
    "id": "yxYyYsHBspk1",
    "outputId": "728a93f7-299b-4bce-8f09-abe993923457"
   },
   "outputs": [
    {
     "name": "stdout",
     "output_type": "stream",
     "text": [
      "[[255 255 255 255 255 255 255 255 255 255]\n",
      " [255 255 255 255 255 255 255 255 255 255]\n",
      " [255 255 255 255 255 255 255 255 255 255]\n",
      " [255 255 255 255 255 255 255 255 255 255]\n",
      " [255 255 255 255 255 255 255 255 255 255]\n",
      " [255 255 255 255 255 255 255 255 255 255]\n",
      " [255 255 255 255 255 255 255 255 255 255]\n",
      " [255 255 255 255 255 255 255 255 255 255]\n",
      " [255 255 255 255 255 255 255 255 255 255]\n",
      " [255 255 255 255 255 255 255 255 255 255]]\n"
     ]
    }
   ],
   "source": [
    "# Solution 2\n",
    "arr=np.full((10,10),255) #np.full(shape,fill_value)\n",
    "print(arr)"
   ]
  },
  {
   "cell_type": "markdown",
   "metadata": {
    "id": "XQLYT2m11wVG"
   },
   "source": [
    "### Build a 6x6 two-dimensional array - identity matrix. Use the _int_ data type.\n",
    "\n",
    "__Expected result:__\n",
    "\n",
    "```\n",
    "array([[1, 0, 0, 0, 0, 0],\n",
    "       [0, 1, 0, 0, 0, 0],\n",
    "       [0, 0, 1, 0, 0, 0],\n",
    "       [0, 0, 0, 1, 0, 0],\n",
    "       [0, 0, 0, 0, 1, 0],\n",
    "       [0, 0, 0, 0, 0, 1]])\n",
    "```\n",
    ".\n"
   ]
  },
  {
   "cell_type": "code",
   "execution_count": 15,
   "metadata": {
    "colab": {
     "base_uri": "https://localhost:8080/"
    },
    "id": "X8okO11Twr8e",
    "outputId": "3434b0f5-c7d5-49ca-e92c-f845a095e1df"
   },
   "outputs": [
    {
     "name": "stdout",
     "output_type": "stream",
     "text": [
      "[[1. 0. 0. 0. 0. 0.]\n",
      " [0. 1. 0. 0. 0. 0.]\n",
      " [0. 0. 1. 0. 0. 0.]\n",
      " [0. 0. 0. 1. 0. 0.]\n",
      " [0. 0. 0. 0. 1. 0.]\n",
      " [0. 0. 0. 0. 0. 1.]]\n"
     ]
    }
   ],
   "source": [
    "arr=np.identity(6)\n",
    "print(arr)"
   ]
  },
  {
   "cell_type": "markdown",
   "metadata": {
    "id": "TXUd_4631-gw"
   },
   "source": [
    "### Create a one-dimensional numpy array (vector) consisting of 11 equally spaced points from the interval  [0, 1].\n",
    "\n",
    "__Expected result:__\n",
    "```\n",
    "array([0. , 0.1, 0.2, 0.3, 0.4, 0.5, 0.6, 0.7, 0.8, 0.9, 1. ])\n",
    "```\n",
    "__Tip:__ Use the _np.linspace()_ function.\n",
    "\n"
   ]
  },
  {
   "cell_type": "code",
   "execution_count": 17,
   "metadata": {
    "colab": {
     "base_uri": "https://localhost:8080/",
     "height": 34
    },
    "id": "DTZ74VnQy4aX",
    "outputId": "e95221c3-5416-47e1-cf29-c2e5ed87006b"
   },
   "outputs": [
    {
     "name": "stdout",
     "output_type": "stream",
     "text": [
      "[0.  0.1 0.2 0.3 0.4 0.5 0.6 0.7 0.8 0.9 1. ]\n"
     ]
    }
   ],
   "source": [
    "arr=np.linspace(0,1,11)\n",
    "print(arr)"
   ]
  },
  {
   "cell_type": "markdown",
   "metadata": {
    "id": "9_vFcUZ9y8jg"
   },
   "source": [
    "### Create an array of all the odd integers from 10 to 100\n",
    "\n",
    "```\n",
    "array([ 10,  11,  12,  13,  14,  15,  16,  17,  18,  19,  20,  21,  22,\n",
    "        23,  24,  25,  26,  27,  28,  29,  30,  31,  32,  33,  34,  35,\n",
    "        36,  37,  38,  39,  40,  41,  42,  43,  44,  45,  46,  47,  48,\n",
    "        49,  50,  51,  52,  53,  54,  55,  56,  57,  58,  59,  60,  61,\n",
    "        62,  63,  64,  65,  66,  67,  68,  69,  70,  71,  72,  73,  74,\n",
    "        75,  76,  77,  78,  79,  80,  81,  82,  83,  84,  85,  86,  87,\n",
    "        88,  89,  90,  91,  92,  93,  94,  95,  96,  97,  98,  99, 100])\n",
    "```\n"
   ]
  },
  {
   "cell_type": "code",
   "execution_count": 19,
   "metadata": {
    "colab": {
     "base_uri": "https://localhost:8080/"
    },
    "id": "Vnk1OZV-y8jh",
    "outputId": "a388f085-51a2-447a-f788-2c9759da61a0"
   },
   "outputs": [
    {
     "name": "stdout",
     "output_type": "stream",
     "text": [
      "[11 13 15 17 19 21 23 25 27 29 31 33 35 37 39 41 43 45 47 49 51 53 55 57\n",
      " 59 61 63 65 67 69 71 73 75 77 79 81 83 85 87 89 91 93 95 97 99]\n"
     ]
    }
   ],
   "source": [
    "arr=np.arange(11,101,2)\n",
    "print(arr)"
   ]
  },
  {
   "cell_type": "markdown",
   "metadata": {
    "id": "fih7pqe-y8jn"
   },
   "source": [
    "### Create an array of 5x5 random numbers from a uniform distribution\n",
    "\n",
    "__Tip:__ Use the _np.random.rand()_ function.\n",
    "\n"
   ]
  },
  {
   "cell_type": "code",
   "execution_count": 25,
   "metadata": {
    "colab": {
     "base_uri": "https://localhost:8080/"
    },
    "id": "uYBg6O-ey8jo",
    "outputId": "109b83b2-71e7-42e4-e548-c5f81cfa7f28"
   },
   "outputs": [
    {
     "name": "stdout",
     "output_type": "stream",
     "text": [
      "[[0.60102911 0.01149183 0.2959599  0.53809468 0.03158417]\n",
      " [0.28423606 0.59318437 0.82006567 0.46527077 0.65650126]\n",
      " [0.03200732 0.51610014 0.17689613 0.65159448 0.7971699 ]\n",
      " [0.15548998 0.80152698 0.14240682 0.77221218 0.79320685]\n",
      " [0.56998349 0.72068069 0.09151423 0.66019831 0.15110078]]\n"
     ]
    }
   ],
   "source": [
    "arr=np.reshape(np.random.rand(25),(5,5))\n",
    "print(arr)"
   ]
  },
  {
   "cell_type": "markdown",
   "metadata": {
    "id": "4hOuJKLT6YQn"
   },
   "source": [
    "### Create an array of 10 random numbers from a standard normal distribution\n",
    "\n",
    "__Tip:__ Use the _np.random.randn()_ function.\n",
    "\n"
   ]
  },
  {
   "cell_type": "code",
   "execution_count": 27,
   "metadata": {
    "colab": {
     "base_uri": "https://localhost:8080/"
    },
    "id": "0qdp3ixO6YRO",
    "outputId": "95915aba-c574-4eac-8341-41f826b2eb8c"
   },
   "outputs": [
    {
     "name": "stdout",
     "output_type": "stream",
     "text": [
      "[-0.56321308  0.72426808  0.41314191 -0.87888535  0.44633002  1.94362321\n",
      " -0.15957928  0.35173043 -0.42575868 -0.02674629]\n"
     ]
    }
   ],
   "source": [
    "arr=np.random.randn(10)\n",
    "print(arr)"
   ]
  },
  {
   "cell_type": "markdown",
   "metadata": {
    "id": "UMY18ggc62t-"
   },
   "source": [
    "## Build the two-dimensional 6x6 size array below:\n",
    "\n",
    "```\n",
    "array([[0, 0, 0, 0, 0, 0],\n",
    "       [0, 1, 0, 0, 0, 0],\n",
    "       [0, 0, 2, 0, 0, 0],\n",
    "       [0, 0, 0, 3, 0, 0],\n",
    "       [0, 0, 0, 0, 4, 0],\n",
    "       [0, 0, 0, 0, 0, 5]])\n",
    "```\n",
    "__Tip:__ Use the _np.diag()_ function.\n",
    "\n"
   ]
  },
  {
   "cell_type": "markdown",
   "metadata": {},
   "source": [
    "The np.diag() function in NumPy is a versatile tool for working with the diagonal of a 2D array. It has two main uses:\n",
    "\n",
    "Extracting the diagonal elements of a 2D array.\n",
    "\n",
    "Creating a 2D array with a 1D array on the specified diagonal.\n",
    "\n",
    "1. Extracting the Diagonal\n",
    "When you pass a 2D array to np.diag(), it returns a 1D array containing the elements on the main diagonal.\n",
    "\n",
    "Syntax: np.diag(array, k=0)\n",
    "\n",
    "array: The 2D array from which to extract the diagonal.\n",
    "\n",
    "k: The offset of the diagonal. k=0 is the main diagonal, k>0 is an upper diagonal, and k<0 is a lower diagonal.\n",
    "\n",
    "2. Creating a Diagonal Matrix\n",
    "When you pass a 1D array to np.diag(), it creates a 2D array with the elements of the 1D array on the main diagonal and zeros elsewhere.\n",
    "\n",
    "Syntax: np.diag(1d_array, k=0)\n",
    "\n",
    "1d_array: The array whose elements will form the diagonal.\n",
    "\n",
    "k: The offset of the diagonal.\n"
   ]
  },
  {
   "cell_type": "code",
   "execution_count": 30,
   "metadata": {
    "colab": {
     "base_uri": "https://localhost:8080/",
     "height": 119
    },
    "id": "GgyeUdgJ62uA",
    "outputId": "c303f914-fa48-4135-e435-3575b506d02b"
   },
   "outputs": [
    {
     "name": "stdout",
     "output_type": "stream",
     "text": [
      "[[0 0 0 0 0 0]\n",
      " [0 1 0 0 0 0]\n",
      " [0 0 2 0 0 0]\n",
      " [0 0 0 3 0 0]\n",
      " [0 0 0 0 4 0]\n",
      " [0 0 0 0 0 5]]\n"
     ]
    }
   ],
   "source": [
    "# Solution 1\n",
    "arr=np.arange(6)\n",
    "arr=np.diag(arr)\n",
    "print(arr)"
   ]
  },
  {
   "cell_type": "code",
   "execution_count": null,
   "metadata": {
    "colab": {
     "base_uri": "https://localhost:8080/",
     "height": 119
    },
    "id": "k2_2eK74zViv",
    "outputId": "ae4b53b9-0667-4ff1-cfb1-b663db805573"
   },
   "outputs": [],
   "source": [
    "# Solution 2\n"
   ]
  },
  {
   "cell_type": "markdown",
   "metadata": {
    "id": "YiKpXebv7TNm"
   },
   "source": [
    "# Numpy Array Operations"
   ]
  },
  {
   "cell_type": "markdown",
   "metadata": {
    "id": "hOhqDRz618Tx"
   },
   "source": [
    "### Combine the following arrays: $ A $ and $ B $ into one array.\n",
    "\n",
    "```\n",
    "A = np.arange(12).reshape(-1, 4)\n",
    "B = np.array([[4, 3, 7, 2],\n",
    "              [0, 5, 2, 6]])\n",
    "```\n",
    "\n",
    "__The expected result:__\n",
    "\n",
    "```\n",
    "array([[ 0,  1,  2,  3],\n",
    "       [ 4,  5,  6,  7],\n",
    "       [ 8,  9, 10, 11],\n",
    "       [ 4,  3,  7,  2],\n",
    "       [ 0,  5,  2,  6]])\n",
    "```\n",
    "\n",
    "\n"
   ]
  },
  {
   "cell_type": "code",
   "execution_count": 34,
   "metadata": {
    "colab": {
     "base_uri": "https://localhost:8080/"
    },
    "id": "Bow8cAUL3Z33",
    "outputId": "e9da96e2-2c92-4112-94e5-e02b5372f0f9"
   },
   "outputs": [
    {
     "name": "stdout",
     "output_type": "stream",
     "text": [
      "[[ 0  1  2  3]\n",
      " [ 4  5  6  7]\n",
      " [ 8  9 10 11]\n",
      " [ 4  3  7  2]\n",
      " [ 0  5  2  6]]\n"
     ]
    }
   ],
   "source": [
    "A = np.arange(12).reshape(-1, 4)\n",
    "B = np.array([[4, 3, 7, 2],\n",
    "              [0, 5, 2, 6]])\n",
    "\n",
    "c=np.concatenate((A,B))\n",
    "print(c)"
   ]
  },
  {
   "cell_type": "code",
   "execution_count": null,
   "metadata": {
    "colab": {
     "base_uri": "https://localhost:8080/"
    },
    "id": "ta8EexJR7_Va",
    "outputId": "1c4fcf83-77e8-4eab-861e-4736bf627adc"
   },
   "outputs": [],
   "source": []
  },
  {
   "cell_type": "code",
   "execution_count": null,
   "metadata": {
    "colab": {
     "base_uri": "https://localhost:8080/"
    },
    "id": "EVqsdZY69Rba",
    "outputId": "3eecbc85-ecb8-4125-a66d-f79599e5be45"
   },
   "outputs": [],
   "source": []
  },
  {
   "cell_type": "markdown",
   "metadata": {
    "id": "4WG9KO088xkP"
   },
   "source": [
    "### The array below is given:\n",
    "```\n",
    "A = np.array([[0.4, 0.3, 0.3],\n",
    "              [0.1, 0.1, 0.8],\n",
    "              [0.2, 0.5, 0.3]])\n",
    "```\n",
    "Return with maximum values for a given row.\n",
    "\n"
   ]
  },
  {
   "cell_type": "code",
   "execution_count": 38,
   "metadata": {
    "colab": {
     "base_uri": "https://localhost:8080/"
    },
    "id": "2ApQed7B8xks",
    "outputId": "350789c6-3bdf-4bd8-e505-b093f5fbb3b6"
   },
   "outputs": [],
   "source": [
    "A = np.array([[0.4, 0.3, 0.3],\n",
    "              [0.1, 0.1, 0.8],\n",
    "              [0.2, 0.5, 0.3]])\n"
   ]
  },
  {
   "cell_type": "code",
   "execution_count": 42,
   "metadata": {
    "colab": {
     "base_uri": "https://localhost:8080/"
    },
    "id": "MBSusMNI84UV",
    "outputId": "55be1477-d92d-426e-d5d7-4beea51bdca1"
   },
   "outputs": [
    {
     "name": "stdout",
     "output_type": "stream",
     "text": [
      "0.8\n"
     ]
    }
   ],
   "source": [
    "max_row_1=np.max(A[1])\n",
    "print(max_row_1)"
   ]
  },
  {
   "cell_type": "markdown",
   "metadata": {
    "id": "w839mQ0g9gZE"
   },
   "source": [
    "### The array below is given:\n",
    "```\n",
    "A = np.array([[0.4, 0.3, 0.3],\n",
    "              [0.1, 0.1, 0.8],\n",
    "              [0.2, 0.5, 0.3]])\n",
    "```\n",
    "Return with sum of columns.\n",
    "\n",
    ".\n"
   ]
  },
  {
   "cell_type": "code",
   "execution_count": null,
   "metadata": {
    "colab": {
     "base_uri": "https://localhost:8080/"
    },
    "id": "KUaLBSdX9Gdd",
    "outputId": "be5ce5c8-626d-4baa-bff7-2546cae1d749"
   },
   "outputs": [],
   "source": [
    "A = np.array([[0.4, 0.3, 0.3],\n",
    "              [0.1, 0.1, 0.8],\n",
    "              [0.2, 0.5, 0.3]])\n"
   ]
  },
  {
   "cell_type": "code",
   "execution_count": 44,
   "metadata": {
    "colab": {
     "base_uri": "https://localhost:8080/"
    },
    "id": "mQPvs8ar9sIv",
    "outputId": "68b1afc3-17fd-4b2c-809c-41b18c44081f"
   },
   "outputs": [
    {
     "name": "stdout",
     "output_type": "stream",
     "text": [
      "[0.7 0.9 1.4]\n"
     ]
    }
   ],
   "source": [
    "sum_cols=np.sum(A,axis=0)\n",
    "print(sum_cols)"
   ]
  },
  {
   "cell_type": "markdown",
   "metadata": {
    "id": "J9pY1rtr1sC0"
   },
   "source": [
    "### Extract all elements of the $ A $ array with a value greater than 8.\n",
    "```\n",
    "A = np.array([[4.99, 3.49, 9.99],\n",
    "              [1.99, 9.99, 4.99],\n",
    "              [14.99, 2.39, 7.29]])\n",
    "```"
   ]
  },
  {
   "cell_type": "code",
   "execution_count": 46,
   "metadata": {
    "colab": {
     "base_uri": "https://localhost:8080/"
    },
    "id": "o7A_fDLp9upk",
    "outputId": "7f473793-69da-4a4e-cac5-c126fb8f5480"
   },
   "outputs": [],
   "source": [
    "A = np.array([[4.99, 3.49, 9.99],\n",
    "              [1.99, 9.99, 4.99],\n",
    "              [14.99, 2.39, 7.29]])\n",
    "\n"
   ]
  },
  {
   "cell_type": "code",
   "execution_count": 54,
   "metadata": {
    "colab": {
     "base_uri": "https://localhost:8080/"
    },
    "id": "JnsoAWri9wUE",
    "outputId": "ed5f67ee-ddf0-454c-c1db-fb0fca2b50a1"
   },
   "outputs": [
    {
     "name": "stdout",
     "output_type": "stream",
     "text": [
      "[ 9.99  9.99 14.99]\n"
     ]
    }
   ],
   "source": [
    "#boolean indexing \n",
    "print(A[A>8]) #A>8 is a condition applied to the array each element in the array gives true or false,\n",
    "#when you say arr_name[boolean condition] it returns an array with all values that has true for the condition"
   ]
  },
  {
   "cell_type": "markdown",
   "metadata": {
    "id": "4xTKSUzg10MK"
   },
   "source": [
    "### Present the following $ A $ two-dimensional array as a \"flattened\" one-dimensional array.\n",
    "```\n",
    "A = np.array([[4.99, 3.49, 9.99],\n",
    "              [1.99, 9.99, 14.99],\n",
    "              [14.99, 2.39, 7.29]])\n",
    "```\n",
    "__Expected result:__\n",
    "```\n",
    "array([ 4.99,  3.49,  9.99,  1.99,  9.99, 14.99, 14.99,  2.39,  7.29])\n",
    "```\n"
   ]
  },
  {
   "cell_type": "code",
   "execution_count": null,
   "metadata": {
    "colab": {
     "base_uri": "https://localhost:8080/"
    },
    "id": "yfFjwZYN-PVR",
    "outputId": "3d4b229f-b7e6-421b-e5d2-13bbfd5025c6"
   },
   "outputs": [],
   "source": [
    "A = np.array([[4.99, 3.49, 9.99],\n",
    "              [1.99, 9.99, 14.99],\n",
    "              [14.99, 2.39, 7.29]])\n",
    "\n"
   ]
  },
  {
   "cell_type": "code",
   "execution_count": 58,
   "metadata": {
    "colab": {
     "base_uri": "https://localhost:8080/"
    },
    "id": "gAalnnUb-JIF",
    "outputId": "3ad5ccfc-5f51-4310-f501-4203842c4596"
   },
   "outputs": [
    {
     "name": "stdout",
     "output_type": "stream",
     "text": [
      "[ 4.99  3.49  9.99  1.99  9.99  4.99 14.99  2.39  7.29]\n"
     ]
    }
   ],
   "source": [
    "A=np.reshape(A,np.size(A))\n",
    "print(A)"
   ]
  },
  {
   "cell_type": "markdown",
   "metadata": {
    "id": "TTnwjkjw_hp1"
   },
   "source": [
    "### The array below is given:\n",
    "```\n",
    "A = np.array([[0.4, 0.3, 0.3],\n",
    "              [0.1, 0.1, 0.8],\n",
    "              [0.2, 0.5, 0.3]])\n",
    "```\n",
    "Return Size , shape , datatype of array A"
   ]
  },
  {
   "cell_type": "code",
   "execution_count": null,
   "metadata": {
    "colab": {
     "base_uri": "https://localhost:8080/"
    },
    "id": "owZDglXn-uo4",
    "outputId": "07dd68a1-393a-4dbb-ec4c-166d8f1f73c9"
   },
   "outputs": [],
   "source": [
    "A = np.array([[4.99, 3.49, 9.99],\n",
    "              [1.99, 9.99, 14.99],\n",
    "              [14.99, 2.39, 7.29]])\n",
    "\n"
   ]
  },
  {
   "cell_type": "code",
   "execution_count": 60,
   "metadata": {
    "colab": {
     "base_uri": "https://localhost:8080/"
    },
    "id": "8Sb7q4jb-3qT",
    "outputId": "3739a913-d184-4cc3-bd44-3bbf1bb4d6b1"
   },
   "outputs": [
    {
     "data": {
      "text/plain": [
       "9"
      ]
     },
     "execution_count": 60,
     "metadata": {},
     "output_type": "execute_result"
    }
   ],
   "source": [
    "np.size(A)"
   ]
  },
  {
   "cell_type": "code",
   "execution_count": 62,
   "metadata": {
    "colab": {
     "base_uri": "https://localhost:8080/"
    },
    "id": "EyuQXQVbA9-8",
    "outputId": "cd146e99-629c-4b8b-b24b-0a4c0cd4502b"
   },
   "outputs": [
    {
     "data": {
      "text/plain": [
       "(9,)"
      ]
     },
     "execution_count": 62,
     "metadata": {},
     "output_type": "execute_result"
    }
   ],
   "source": [
    "np.shape(A)"
   ]
  },
  {
   "cell_type": "code",
   "execution_count": 64,
   "metadata": {
    "colab": {
     "base_uri": "https://localhost:8080/"
    },
    "id": "QF7ymc4fA_Ns",
    "outputId": "026199a7-8799-4633-a830-10db50d465b2"
   },
   "outputs": [
    {
     "data": {
      "text/plain": [
       "dtype('float64')"
      ]
     },
     "execution_count": 64,
     "metadata": {},
     "output_type": "execute_result"
    }
   ],
   "source": [
    "A.dtype"
   ]
  },
  {
   "cell_type": "markdown",
   "metadata": {
    "id": "kdf51FL2B49R"
   },
   "source": [
    "### The array below is given:\n",
    "```\n",
    "A = np.array([[0.4, 0.3, 0.3],\n",
    "              [0.1, 0.1, 0.8],\n",
    "              [0.2, 0.5, 0.3]])\n",
    "```\n",
    "Return last row in array A"
   ]
  },
  {
   "cell_type": "code",
   "execution_count": 66,
   "metadata": {
    "colab": {
     "base_uri": "https://localhost:8080/"
    },
    "id": "Qdq8Z-oEBCz_",
    "outputId": "edc22e52-752f-4c2a-f459-e08d28949c8d"
   },
   "outputs": [],
   "source": [
    "A = np.array([[4.99, 3.49, 9.99],\n",
    "              [1.99, 9.99, 14.99],\n",
    "              [14.99, 2.39, 7.29]])\n",
    "\n"
   ]
  },
  {
   "cell_type": "code",
   "execution_count": 76,
   "metadata": {
    "colab": {
     "base_uri": "https://localhost:8080/"
    },
    "id": "T8ov2KWVCBiG",
    "outputId": "5f5eab70-40ee-4b74-d635-f8d18026b566"
   },
   "outputs": [
    {
     "data": {
      "text/plain": [
       "array([14.99,  2.39,  7.29])"
      ]
     },
     "execution_count": 76,
     "metadata": {},
     "output_type": "execute_result"
    }
   ],
   "source": [
    "rows,cols=np.shape(A)\n",
    "rows-=1\n",
    "cols-=1\n",
    "A[rows]\n",
    "#or\n",
    "A[2]"
   ]
  },
  {
   "cell_type": "markdown",
   "metadata": {
    "id": "yZ4ifNHiCnUp"
   },
   "source": [
    "### The array below is given:\n",
    "```\n",
    "A = np.array([[0.4, 0.3, 0.3],\n",
    "              [0.1, 0.1, 0.8],\n",
    "              [0.2, 0.5, 0.3]])\n",
    "```\n",
    "Return frist column in array A"
   ]
  },
  {
   "cell_type": "code",
   "execution_count": null,
   "metadata": {
    "colab": {
     "base_uri": "https://localhost:8080/"
    },
    "id": "P7ZSRiv8CnUp",
    "outputId": "edc22e52-752f-4c2a-f459-e08d28949c8d"
   },
   "outputs": [],
   "source": [
    "A = np.array([[4.99, 3.49, 9.99],\n",
    "              [1.99, 9.99, 14.99],\n",
    "              [14.99, 2.39, 7.29]])\n",
    "\n"
   ]
  },
  {
   "cell_type": "code",
   "execution_count": 78,
   "metadata": {
    "colab": {
     "base_uri": "https://localhost:8080/"
    },
    "id": "PrMo7MtwCnUq",
    "outputId": "fe3ed5b6-8418-4ad0-cb60-3114ef9e3e06"
   },
   "outputs": [
    {
     "data": {
      "text/plain": [
       "array([ 4.99,  1.99, 14.99])"
      ]
     },
     "execution_count": 78,
     "metadata": {},
     "output_type": "execute_result"
    }
   ],
   "source": [
    "A[:,0]"
   ]
  },
  {
   "cell_type": "markdown",
   "metadata": {
    "id": "mDW0naUoEHj3"
   },
   "source": [
    "### The array below is given:\n",
    "```\n",
    "A = np.array([[0.4, 0.3, 0.3],\n",
    "              [0.1, 0.1, 0.8],\n",
    "              [0.2, 0.5, 0.3]])\n",
    "```\n",
    "Return transpose of array A"
   ]
  },
  {
   "cell_type": "code",
   "execution_count": null,
   "metadata": {
    "colab": {
     "base_uri": "https://localhost:8080/"
    },
    "id": "_iH9sAL-ESMD",
    "outputId": "828b7a90-f2cb-401f-cbf1-76367c56d097"
   },
   "outputs": [],
   "source": [
    "A = np.array([[4.99, 3.49, 9.99],\n",
    "              [1.99, 9.99, 14.99],\n",
    "              [14.99, 2.39, 7.29]])\n",
    "\n",
    "A"
   ]
  },
  {
   "cell_type": "code",
   "execution_count": 80,
   "metadata": {
    "colab": {
     "base_uri": "https://localhost:8080/"
    },
    "id": "CoMd5uvTD5tr",
    "outputId": "362c0cd9-a531-4ece-e2bc-8c4fc0fc7c1d"
   },
   "outputs": [
    {
     "data": {
      "text/plain": [
       "array([[ 4.99,  1.99, 14.99],\n",
       "       [ 3.49,  9.99,  2.39],\n",
       "       [ 9.99, 14.99,  7.29]])"
      ]
     },
     "execution_count": 80,
     "metadata": {},
     "output_type": "execute_result"
    }
   ],
   "source": [
    "# Solution 1\n",
    "A.T"
   ]
  },
  {
   "cell_type": "code",
   "execution_count": 84,
   "metadata": {
    "colab": {
     "base_uri": "https://localhost:8080/"
    },
    "id": "_NeNQWlPq5yj",
    "outputId": "e6e7e0ce-4968-4db0-a58c-800dfb7377d0"
   },
   "outputs": [
    {
     "data": {
      "text/plain": [
       "array([[ 4.99,  1.99, 14.99],\n",
       "       [ 3.49,  9.99,  2.39],\n",
       "       [ 9.99, 14.99,  7.29]])"
      ]
     },
     "execution_count": 84,
     "metadata": {},
     "output_type": "execute_result"
    }
   ],
   "source": [
    "# Solution 2\n",
    "np.array([A[:,0],A[:,1],A[:,2]])"
   ]
  },
  {
   "cell_type": "markdown",
   "metadata": {
    "id": "qNGBIpQBEiqv"
   },
   "source": [
    "### The following array (square matrix) $ A $ is given:\n",
    "```\n",
    "A = np.array([[5, 8, 16],\n",
    "              [4, 1, 8],\n",
    "              [-4, 4, -11]])\n",
    "```\n",
    "Find the inverse matrix to the $ A $ matrix.\n",
    "\n"
   ]
  },
  {
   "cell_type": "code",
   "execution_count": null,
   "metadata": {
    "colab": {
     "base_uri": "https://localhost:8080/"
    },
    "id": "1Z5Y9ghsqLSM",
    "outputId": "3a6afd47-f005-4fd7-e2e7-869e142f4eae"
   },
   "outputs": [],
   "source": [
    "A = np.array([[5, 8, 16],\n",
    "              [4, 1, 8],\n",
    "              [-4, 4, -11]])\n",
    "\n",
    "A"
   ]
  },
  {
   "cell_type": "code",
   "execution_count": 90,
   "metadata": {
    "colab": {
     "base_uri": "https://localhost:8080/"
    },
    "id": "a6ltIyo6Cuh3",
    "outputId": "d7a97d3b-fed7-4142-b627-91e8afd61eb5"
   },
   "outputs": [
    {
     "name": "stdout",
     "output_type": "stream",
     "text": [
      "[[-0.06977615  0.00295315  0.08954678]\n",
      " [-0.39638004  0.21379777  0.10356763]\n",
      " [ 0.27342836 -0.07616521 -0.08090986]]\n"
     ]
    }
   ],
   "source": [
    "inv=np.linalg.inv(A)  #for getting inverse use np.linalg.inv(arr)\n",
    "print(inv)"
   ]
  },
  {
   "cell_type": "markdown",
   "metadata": {
    "id": "PunXd_Ey16so"
   },
   "source": [
    "### The following array (square matrix) $ A $ is given:\n",
    "\n",
    "```\n",
    "A = np.array([[-2, 0, 4],\n",
    "              [5, 2, -1],\n",
    "              [-4, 2, 4]])\n",
    "```\n",
    "Compute the determinant of the $ A $ matrix.\n",
    "\n",
    "\n"
   ]
  },
  {
   "cell_type": "code",
   "execution_count": null,
   "metadata": {
    "colab": {
     "base_uri": "https://localhost:8080/"
    },
    "id": "a1I6nDFqplIY",
    "outputId": "b916fe04-ec9c-4471-a24a-99c7f2a72cc3"
   },
   "outputs": [],
   "source": [
    "A = np.array([[-2, 0, 4],\n",
    "              [5, 2, -1],\n",
    "              [-4, 2, 4]])\n",
    "\n",
    "A"
   ]
  },
  {
   "cell_type": "code",
   "execution_count": 94,
   "metadata": {
    "colab": {
     "base_uri": "https://localhost:8080/"
    },
    "id": "Xr_A7CdPEuR9",
    "outputId": "8e2122ec-84a5-4a8e-830b-9c3e6d1bbbf2"
   },
   "outputs": [
    {
     "name": "stdout",
     "output_type": "stream",
     "text": [
      "-530.2815000000003\n"
     ]
    }
   ],
   "source": [
    "det=np.linalg.det(A) #for determinant use np.linalg.det(arr)\n",
    "print(det)"
   ]
  },
  {
   "cell_type": "markdown",
   "metadata": {
    "id": "cyc70pMe1oCg"
   },
   "source": [
    "### The following two arrays $ A $ and $ B $ are given:\n",
    "\n",
    "```\n",
    "A = np.array([[3, 4, 9, 2],\n",
    "              [5, 3, 2, 5]])\n",
    "B = np.array([[4, 3, 2, 5],\n",
    "              [6, 3, 1, 6]])\n",
    "```\n",
    "\n",
    "Add array A and array B .\n",
    "\n",
    "__Expected result:__\n",
    "```\n",
    "array([[7, 7, 11, 7],\n",
    "       [11, 6 , 3, 11]])\n",
    "```"
   ]
  },
  {
   "cell_type": "code",
   "execution_count": 96,
   "metadata": {
    "colab": {
     "base_uri": "https://localhost:8080/"
    },
    "id": "3r_t-HP5lKWP",
    "outputId": "c62f894e-deaa-4481-c938-bea101e21c76"
   },
   "outputs": [],
   "source": [
    "A = np.array([[3, 4, 9, 2],\n",
    "              [5, 3, 2, 5]])\n",
    "B = np.array([[4, 3, 2, 5],\n",
    "              [6, 3, 1, 6]])\n",
    "\n"
   ]
  },
  {
   "cell_type": "code",
   "execution_count": null,
   "metadata": {
    "colab": {
     "base_uri": "https://localhost:8080/"
    },
    "id": "oBSh_-UjGLui",
    "outputId": "007c487f-d33b-4ce4-94f5-2db722fade23"
   },
   "outputs": [],
   "source": []
  },
  {
   "cell_type": "code",
   "execution_count": 98,
   "metadata": {
    "colab": {
     "base_uri": "https://localhost:8080/"
    },
    "id": "JdQjOmMBGLZG",
    "outputId": "47762494-863f-459f-ec16-c7e8f5ac9e3b"
   },
   "outputs": [
    {
     "data": {
      "text/plain": [
       "array([[ 7,  7, 11,  7],\n",
       "       [11,  6,  3, 11]])"
      ]
     },
     "execution_count": 98,
     "metadata": {},
     "output_type": "execute_result"
    }
   ],
   "source": [
    "# Solution 1\n",
    "A+B"
   ]
  },
  {
   "cell_type": "code",
   "execution_count": null,
   "metadata": {
    "colab": {
     "base_uri": "https://localhost:8080/"
    },
    "id": "rrXJR4KOlO2-",
    "outputId": "419a2ac2-5081-4cb5-a067-53b88dfa0028"
   },
   "outputs": [],
   "source": [
    "# Solution 2\n"
   ]
  },
  {
   "cell_type": "markdown",
   "metadata": {
    "id": "o3HKIKlP15Ro"
   },
   "source": [
    "### Two two-dimensional arrays are provided, numpy $ A $ and $ B $.  \n",
    "$ A $ - dimension matrix $ (3, 2) $  \n",
    "$ B $ - dimension matrix $ (2, 3) $  \n",
    "```\n",
    "A = np.array([[2, 3],\n",
    "              [-4, 2],\n",
    "              [5, 0]])\n",
    "B = np.array([[4, 3, 2],\n",
    "              [-1, 0, 2]])\n",
    "```\n",
    "Perform matrix multiplication of $ A $ and $ B $ arrays.\n",
    "\n"
   ]
  },
  {
   "cell_type": "code",
   "execution_count": 102,
   "metadata": {
    "colab": {
     "base_uri": "https://localhost:8080/"
    },
    "id": "2E1T58x9pHl0",
    "outputId": "81ea75eb-91a2-4807-afdb-6b2c01b28d4b"
   },
   "outputs": [],
   "source": [
    "A = np.array([[2, 3],\n",
    "              [-4, 2],\n",
    "              [5, 0]])\n",
    "B = np.array([[4, 3, 2],\n",
    "              [-1, 0, 2]])\n"
   ]
  },
  {
   "cell_type": "code",
   "execution_count": null,
   "metadata": {
    "colab": {
     "base_uri": "https://localhost:8080/"
    },
    "id": "LqUbQ_gOI55P",
    "outputId": "755c1175-abd9-48c8-b14f-d57b9cde3dfc"
   },
   "outputs": [],
   "source": []
  },
  {
   "cell_type": "code",
   "execution_count": 104,
   "metadata": {
    "id": "xBbJr2WMI-Tl"
   },
   "outputs": [
    {
     "data": {
      "text/plain": [
       "array([[  5,   6,  10],\n",
       "       [-18, -12,  -4],\n",
       "       [ 20,  15,  10]])"
      ]
     },
     "execution_count": 104,
     "metadata": {},
     "output_type": "execute_result"
    }
   ],
   "source": [
    "# Solution 1\n",
    "np.dot(A,B)"
   ]
  },
  {
   "cell_type": "code",
   "execution_count": null,
   "metadata": {
    "colab": {
     "base_uri": "https://localhost:8080/",
     "height": 66
    },
    "id": "yt8IuUm0pJr8",
    "outputId": "e6c626c5-acb0-4f3f-c95a-621594e6a058"
   },
   "outputs": [],
   "source": [
    "# Solution 2\n"
   ]
  },
  {
   "cell_type": "code",
   "execution_count": null,
   "metadata": {
    "id": "70Tp2SXvGUae"
   },
   "outputs": [],
   "source": []
  }
 ],
 "metadata": {
  "colab": {
   "provenance": []
  },
  "kernelspec": {
   "display_name": "Python 3 (ipykernel)",
   "language": "python",
   "name": "python3"
  },
  "language_info": {
   "codemirror_mode": {
    "name": "ipython",
    "version": 3
   },
   "file_extension": ".py",
   "mimetype": "text/x-python",
   "name": "python",
   "nbconvert_exporter": "python",
   "pygments_lexer": "ipython3",
   "version": "3.12.7"
  }
 },
 "nbformat": 4,
 "nbformat_minor": 4
}
