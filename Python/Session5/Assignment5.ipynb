{
 "cells": [
  {
   "cell_type": "markdown",
   "id": "7f5830c8-76bd-4171-8839-3576ccd07e3c",
   "metadata": {},
   "source": [
    "## Challenge 1: Bank Account"
   ]
  },
  {
   "cell_type": "code",
   "execution_count": 28,
   "id": "84e192c7-0bb7-4440-9f84-a53ce314dc22",
   "metadata": {},
   "outputs": [
    {
     "name": "stdout",
     "output_type": "stream",
     "text": [
      "500$ Deposited\n",
      "300$ Withdrwan\n",
      "Account Balance : 1200$\n"
     ]
    }
   ],
   "source": [
    "class Invalid_Opening_Balance(Exception):\n",
    "    pass\n",
    "    \n",
    "class BankAccount():\n",
    "    def __init__(self,Balance):\n",
    "        if(Balance<=0):\n",
    "            raise Invalid_Opening_Balance(\"must open the account with balance >0\")\n",
    "        else:                             \n",
    "            self.__balance=Balance\n",
    "    def check_balance(self):\n",
    "        print(f\"Account Balance : {self.__balance}$\")\n",
    "    def Deposit(self,amount):\n",
    "        self.__balance+=amount\n",
    "        print(f\"{amount}$ Deposited\")\n",
    "    def Withdraw(self,amount):\n",
    "        self.__balance-=amount\n",
    "        print(f\"{amount}$ Withdrwan\")\n",
    "\n",
    "try:\n",
    "    Account=BankAccount(1000)\n",
    "\n",
    "    Account.Deposit(500)\n",
    "\n",
    "    Account.Withdraw(300)\n",
    "\n",
    "    Account.check_balance()\n",
    "except Invalid_Opening_Balance as e:\n",
    "    print(e)"
   ]
  },
  {
   "cell_type": "markdown",
   "id": "344652e4-0e02-479c-a525-c801a9a77dcd",
   "metadata": {},
   "source": [
    "## Challenge 2: Library system"
   ]
  },
  {
   "cell_type": "code",
   "execution_count": 71,
   "id": "0a6f35bc-42f5-49ce-a936-e4df9743d6af",
   "metadata": {},
   "outputs": [
    {
     "name": "stdout",
     "output_type": "stream",
     "text": [
      "                       Books' List                        \n",
      "Book_name: Python Programming          Copies_Avaialable: 1\n",
      "Book_name: Embedded Systems            Copies_Avaialable: 2\n",
      "Book_name: Control Theory              Copies_Avaialable: 1\n",
      "\n",
      "                       Books' List                        \n",
      "Book_name: Python Programming          Copies_Avaialable: 1\n",
      "Book_name: Embedded Systems            Copies_Avaialable: 2\n",
      "Book_name: Control Theory              Copies_Avaialable: 1\n",
      "Book_name: C++ for dummies             Copies_Avaialable: 1\n",
      "\n",
      "                       Books' List                        \n",
      "Book_name: Python Programming          Copies_Avaialable: 1\n",
      "Book_name: Embedded Systems            Copies_Avaialable: 3\n",
      "Book_name: Control Theory              Copies_Avaialable: 1\n",
      "Book_name: C++ for dummies             Copies_Avaialable: 1\n",
      "\n",
      "                       Books' List                        \n",
      "Book_name: Python Programming          Copies_Avaialable: 1\n",
      "Book_name: Embedded Systems            Copies_Avaialable: 3\n",
      "Book_name: C++ for dummies             Copies_Avaialable: 1\n",
      "\n",
      "Book not found\n",
      "                       Books' List                        \n",
      "Book_name: Python Programming          Copies_Avaialable: 1\n",
      "Book_name: Embedded Systems            Copies_Avaialable: 3\n",
      "Book_name: C++ for dummies             Copies_Avaialable: 1\n",
      "Book_name: Control Theory              Copies_Avaialable: 1\n",
      "\n"
     ]
    }
   ],
   "source": [
    "class Library():\n",
    "    def __init__(self,book_dict):#the instance is initialized with a dictionary containing book name as key, and number of copies as value\n",
    "        if book_dict:\n",
    "            self.__Books=book_dict\n",
    "    def display_books(self):\n",
    "        max_len=0\n",
    "        for Book_name,copies in self.__Books.items():\n",
    "            if(len(Book_name)>=max_len):\n",
    "                max_len=len(Book_name)\n",
    "        title=\"Books' List\"\n",
    "        title=title.center(10+max_len+10+20)\n",
    "        print(title)\n",
    "        for Book_name,copies in self.__Books.items():\n",
    "            adjust_book_name=Book_name.ljust(max_len)\n",
    "            print(f\"Book_name: {adjust_book_name}\" +(\" \"*10) +f\"Copies_Avaialable: {copies}\")\n",
    "        print(\"\")\n",
    "    def add_book(self,name):\n",
    "        if(name in self.__Books):\n",
    "            self.__Books[name]+=1\n",
    "        else:\n",
    "            self.__Books[name]=1\n",
    "    def borrow_book(self,name):\n",
    "        if(name in self.__Books):\n",
    "            self.__Books[name]-=1\n",
    "            if(self.__Books[name]==0):\n",
    "                del self.__Books[name]\n",
    "        else:\n",
    "            print(\"Book not found\")\n",
    "    def return_book(self,name):\n",
    "        if(name in self.__Books):\n",
    "            self.__Books[name]+=1\n",
    "        else:\n",
    "            self.add_book(name)\n",
    "\n",
    "library=Library({\"Python Programming\":1,\"Embedded Systems\":2,\"Control Theory\":1})\n",
    "library.display_books()\n",
    "library.add_book(\"C++ for dummies\")\n",
    "library.display_books()\n",
    "library.add_book(\"Embedded Systems\")\n",
    "library.display_books()\n",
    "library.borrow_book(\"Control Theory\")\n",
    "library.display_books()\n",
    "library.borrow_book(\"Control Theory\")\n",
    "library.return_book(\"Control Theory\")\n",
    "library.display_books()"
   ]
  },
  {
   "cell_type": "code",
   "execution_count": null,
   "id": "eae42533-4179-4c63-a9bb-fd680c92ef53",
   "metadata": {},
   "outputs": [],
   "source": []
  }
 ],
 "metadata": {
  "kernelspec": {
   "display_name": "Python 3 (ipykernel)",
   "language": "python",
   "name": "python3"
  },
  "language_info": {
   "codemirror_mode": {
    "name": "ipython",
    "version": 3
   },
   "file_extension": ".py",
   "mimetype": "text/x-python",
   "name": "python",
   "nbconvert_exporter": "python",
   "pygments_lexer": "ipython3",
   "version": "3.12.7"
  }
 },
 "nbformat": 4,
 "nbformat_minor": 5
}
